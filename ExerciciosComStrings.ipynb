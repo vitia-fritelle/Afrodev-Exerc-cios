{
 "cells": [
  {
   "cell_type": "code",
   "execution_count": 2,
   "metadata": {},
   "outputs": [],
   "source": [
    "from typing import Union, Set, List, FrozenSet, Tuple, Dict\n",
    "import re\n",
    "from functools import partial\n",
    "from random import choice,shuffle"
   ]
  },
  {
   "cell_type": "code",
   "execution_count": 3,
   "metadata": {},
   "outputs": [],
   "source": [
    "Num = Union[int,float]"
   ]
  },
  {
   "cell_type": "markdown",
   "metadata": {
    "id": "2BI3HmITeVj8"
   },
   "source": [
    "# Strings"
   ]
  },
  {
   "cell_type": "markdown",
   "metadata": {
    "id": "c5_hUeL5eYLg"
   },
   "source": [
    "**Tamanho de strings. Faça um programa que leia 2 strings e informe o conteúdo delas seguido do seu comprimento. Informe também se as duas strings possuem o mesmo comprimento e são iguais ou diferentes no conteúdo.**\n",
    "\n",
    "\n",
    "```\n",
    "Compara duas strings\n",
    "String 1: Brasil Hexa 2006\n",
    "String 2: Brasil! Hexa 2006!\n",
    "Tamanho de \"Brasil Hexa 2006\": 16 caracteres\n",
    "Tamanho de \"Brasil! Hexa 2006!\": 18 caracteres\n",
    "As duas strings são de tamanhos diferentes.\n",
    "As duas strings possuem conteúdo diferente.\n",
    "```\n",
    "\n"
   ]
  },
  {
   "cell_type": "code",
   "execution_count": 4,
   "metadata": {
    "id": "mxapiJC3eUcR"
   },
   "outputs": [
    {
     "name": "stdout",
     "output_type": "stream",
     "text": [
      "Tamanho de Brasil Hexa 2006: 16\n",
      "Tamanho de Brasil! Hexa 2006!: 18\n",
      "As duas strings são de tamanhos diferentes.\n",
      "As duas strings possuem conteúdo diferente.\n"
     ]
    }
   ],
   "source": [
    "string1 = 'Brasil Hexa 2006'\n",
    "N1 = len(string1)\n",
    "string2 = 'Brasil! Hexa 2006!'\n",
    "N2 = len(string2)\n",
    "print(f'Tamanho de {string1}: {N1}')\n",
    "print(f'Tamanho de {string2}: {N2}')\n",
    "if (N1 != N2): \n",
    "    print('As duas strings são de tamanhos diferentes.')\n",
    "else: \n",
    "    print('As duas strings são de tamanhos iguais.')\n",
    "if (string1 != string2): \n",
    "    print('As duas strings possuem conteúdo diferente.')\n",
    "else: \n",
    "    print('As duas strings possuem conteúdo iguais.')\n"
   ]
  },
  {
   "cell_type": "markdown",
   "metadata": {
    "id": "81v8V31SejK-"
   },
   "source": [
    "**Nome ao contrário em maiúsculas. Faça um programa que permita ao usuário digitar o seu nome e em seguida mostre o nome do usuário de trás para frente utilizando somente letras maiúsculas. Dica: lembre−se que ao informar o nome o usuário pode digitar letras maiúsculas ou minúsculas.**"
   ]
  },
  {
   "cell_type": "code",
   "execution_count": 5,
   "metadata": {
    "id": "gm01p3SBemNs"
   },
   "outputs": [],
   "source": [
    "def contrarioMaiusculas(nome: str) -> str:\n",
    "    return ''.join(reversed(nome.upper()))"
   ]
  },
  {
   "cell_type": "code",
   "execution_count": 6,
   "metadata": {},
   "outputs": [
    {
     "data": {
      "text/plain": [
       "'OTREBLA'"
      ]
     },
     "execution_count": 6,
     "metadata": {},
     "output_type": "execute_result"
    }
   ],
   "source": [
    "nome = 'AlberTo'\n",
    "contrarioMaiusculas(nome)"
   ]
  },
  {
   "cell_type": "markdown",
   "metadata": {
    "id": "CiEt8Be1emnM"
   },
   "source": [
    "**Nome na vertical. Faça um programa que solicite o nome do usuário e imprima-o na vertical.**\n",
    "\n",
    "\n",
    "```\n",
    "F\n",
    "U\n",
    "L\n",
    "A\n",
    "N\n",
    "O\n",
    "```\n",
    "\n",
    "\n"
   ]
  },
  {
   "cell_type": "code",
   "execution_count": 7,
   "metadata": {
    "id": "6JGDz-AKeq7q"
   },
   "outputs": [],
   "source": [
    "def imprimeVertical(nome: str) -> None:\n",
    "    for letra in nome: \n",
    "        print(letra)"
   ]
  },
  {
   "cell_type": "code",
   "execution_count": 8,
   "metadata": {},
   "outputs": [
    {
     "name": "stdout",
     "output_type": "stream",
     "text": [
      "F\n",
      "U\n",
      "L\n",
      "A\n",
      "N\n",
      "O\n"
     ]
    }
   ],
   "source": [
    "imprimeVertical('FULANO')"
   ]
  },
  {
   "cell_type": "markdown",
   "metadata": {
    "id": "h-Tj27bEewsh"
   },
   "source": [
    "**Nome na vertical em escada. Modifique o programa anterior de forma a mostrar o nome em formato de escada.**\n",
    "\n",
    "\n",
    "```\n",
    "F\n",
    "FU\n",
    "FUL\n",
    "FULA\n",
    "FULAN\n",
    "FULANO\n",
    "```\n",
    "\n"
   ]
  },
  {
   "cell_type": "code",
   "execution_count": 9,
   "metadata": {
    "id": "fLUe_klVe6g9"
   },
   "outputs": [],
   "source": [
    "def imprimePiramide1(nome: str) -> None:\n",
    "    for i,_ in enumerate(nome):\n",
    "        print(nome[:i])\n",
    "    print(nome)"
   ]
  },
  {
   "cell_type": "code",
   "execution_count": 10,
   "metadata": {},
   "outputs": [
    {
     "name": "stdout",
     "output_type": "stream",
     "text": [
      "\n",
      "F\n",
      "FU\n",
      "FUL\n",
      "FULA\n",
      "FULAN\n",
      "FULANO\n"
     ]
    }
   ],
   "source": [
    "imprimePiramide1('FULANO')"
   ]
  },
  {
   "cell_type": "markdown",
   "metadata": {
    "id": "yBhaTSU-e6-S"
   },
   "source": [
    "**Nome na vertical em escada invertida. Altere o programa anterior de modo que a escada seja invertida.**\n",
    "\n",
    "\n",
    "```\n",
    "FULANO\n",
    "FULAN\n",
    "FULA\n",
    "FUL\n",
    "FU\n",
    "F\n",
    "```\n",
    "\n"
   ]
  },
  {
   "cell_type": "code",
   "execution_count": 11,
   "metadata": {
    "id": "9lnUPsU0fG0g"
   },
   "outputs": [],
   "source": [
    "def imprimePiramideInvertida(nome: str) -> None:\n",
    "    if not nome:\n",
    "        return\n",
    "    else: \n",
    "        print(nome)\n",
    "        imprimePiramideInvertida(nome[:-1])"
   ]
  },
  {
   "cell_type": "code",
   "execution_count": 12,
   "metadata": {},
   "outputs": [
    {
     "name": "stdout",
     "output_type": "stream",
     "text": [
      "FULANO\n",
      "FULAN\n",
      "FULA\n",
      "FUL\n",
      "FU\n",
      "F\n"
     ]
    }
   ],
   "source": [
    "imprimePiramideInvertida('FULANO')"
   ]
  },
  {
   "cell_type": "markdown",
   "metadata": {
    "id": "NSSYKUQ3fHVF"
   },
   "source": [
    "**Data por extenso. Faça um programa que solicite a data de nascimento (dd/mm/aaaa) do usuário e imprima a data com o nome do mês por extenso.**\n",
    "\n",
    "\n",
    "```\n",
    "Data de Nascimento: 29/10/1973\n",
    "Você nasceu em  29 de Outubro de 1973.\n",
    "```\n",
    "\n"
   ]
  },
  {
   "cell_type": "code",
   "execution_count": 37,
   "metadata": {
    "id": "uxTF0Th8fT12"
   },
   "outputs": [],
   "source": [
    "def converterData(data: str) -> Union[str,None]:\n",
    "    meses = [\n",
    "        'janeiro',\n",
    "        'fevereiro', \n",
    "        'março',\n",
    "        'abril',\n",
    "        'maio',\n",
    "        'junho',\n",
    "        'julho',\n",
    "        'agosto',\n",
    "        'setembro',\n",
    "        'outubro',\n",
    "        'novembro',\n",
    "        'dezembro'\n",
    "        ]\n",
    "    data_pattern = ('^(0?[1-9] |1[0-9]| 2[0-9]|3[0-1])'\n",
    "                    '/(0?[1-9]|1[0-2])'\n",
    "                    '/\\d\\d\\d\\d$')\n",
    "    isdata = re.fullmatch(data_pattern,data)\n",
    "    if(isdata):\n",
    "        dia, mes, ano = tuple(data.split('/'))\n",
    "        dataExtenso = (f'Você nasceu em {dia} '\n",
    "                       f'de {meses[int(mes)-1]} '\n",
    "                       f'de {ano}.')\n",
    "        return(dataExtenso)\n",
    "    else:\n",
    "        return None"
   ]
  },
  {
   "cell_type": "code",
   "execution_count": 38,
   "metadata": {},
   "outputs": [
    {
     "data": {
      "text/plain": [
       "'Você nasceu em 12 de abril de 1994.'"
      ]
     },
     "execution_count": 38,
     "metadata": {},
     "output_type": "execute_result"
    }
   ],
   "source": [
    "nascimento = input('Data de Nascimento: ')\n",
    "converterData(nascimento)"
   ]
  },
  {
   "cell_type": "markdown",
   "metadata": {
    "id": "J4vjhl1zfUeW"
   },
   "source": [
    "**Conta espaços e vogais. Dado uma string com uma frase informada pelo usuário (incluindo espaços em branco), conte:**\n",
    "\n",
    "1. quantos espaços em branco existem na frase.\n",
    "2. quantas vezes aparecem as vogais a, e, i, o, u."
   ]
  },
  {
   "cell_type": "code",
   "execution_count": 15,
   "metadata": {
    "id": "cUUWbxn5fy4N"
   },
   "outputs": [],
   "source": [
    "def contaEspacosVogais(frase: str, pesquisar: Union[Set[str],List[str],\n",
    "                                                    FrozenSet[str],Tuple[str]\n",
    "                                                   ] = {' ','a','e',\n",
    "                                                        'i','o','u'\n",
    "                                                       }) -> Dict[str,int]:\n",
    "    resultado={letra:frase.lower().count(letra) for letra in pesquisar}\n",
    "    return resultado\n"
   ]
  },
  {
   "cell_type": "code",
   "execution_count": 16,
   "metadata": {},
   "outputs": [
    {
     "data": {
      "text/plain": [
       "{' ': 7, 'u': 2, 'a': 3, 'e': 8, 'i': 1, 'o': 3}"
      ]
     },
     "execution_count": 16,
     "metadata": {},
     "output_type": "execute_result"
    }
   ],
   "source": [
    "contaEspacosVogais('Eu quero comer bastante, crescer e ficar forte!')"
   ]
  },
  {
   "cell_type": "markdown",
   "metadata": {
    "id": "_trmaipsgAMP"
   },
   "source": [
    "**Palíndromo. Um palíndromo é uma seqüência de caracteres cuja leitura é idêntica se feita da direita para esquerda ou vice−versa. Por exemplo: OSSO e OVO são palíndromos. Em textos mais complexos os espaços e pontuação são ignorados. A frase SUBI NO ONIBUS é o exemplo de uma frase palíndroma onde os espaços foram ignorados. Faça um programa que leia uma seqüência de caracteres, mostre−a e diga se é um palíndromo ou não.**"
   ]
  },
  {
   "cell_type": "code",
   "execution_count": 17,
   "metadata": {
    "id": "BmEAkso_gDvm"
   },
   "outputs": [],
   "source": [
    "def isPalindromo1(string: str) -> bool:\n",
    "    reverso = ''.join(reversed(string.lower()))\n",
    "    if (string == reverso):\n",
    "        return True\n",
    "    else:\n",
    "        return False\n",
    "\n",
    "def isPalindromo2(string: str) -> bool:\n",
    "    sem_espacos = string.replace(' ','')\n",
    "    reverso = ''.join(reversed(sem_espacos.lower()))\n",
    "    if (sem_espacos == reverso):\n",
    "        return True\n",
    "    else:\n",
    "        return False"
   ]
  },
  {
   "cell_type": "code",
   "execution_count": 18,
   "metadata": {},
   "outputs": [
    {
     "name": "stdout",
     "output_type": "stream",
     "text": [
      "Não é palíndromo\n",
      "É palíndromo.\n"
     ]
    }
   ],
   "source": [
    "palavra1 = 'o   v o'\n",
    "if(isPalindromo1(palavra1)):\n",
    "    print('É palíndromo.')\n",
    "else:\n",
    "    print('Não é palíndromo')\n",
    "if(isPalindromo2(palavra1)):\n",
    "    print('É palíndromo.')\n",
    "else:\n",
    "    print('Não é palíndromo')"
   ]
  },
  {
   "cell_type": "markdown",
   "metadata": {
    "id": "TZja1EYigENf"
   },
   "source": [
    "**Verificação de CPF. Desenvolva um programa que solicite a digitação de um número de CPF no formato xxx.xxx.xxx-xx e indique se é um número válido ou inválido através da validação dos dígitos verificadores e dos caracteres de formatação.**"
   ]
  },
  {
   "cell_type": "code",
   "execution_count": 19,
   "metadata": {
    "id": "QQpzKV9_gIqV"
   },
   "outputs": [],
   "source": [
    "def validacao1(base: str, digito1: int) -> bool:\n",
    "    resto = sum([int(j) * (i+2) for i,j in enumerate(base)])%11\n",
    "    if (not resto) or resto == 1:\n",
    "        if digito1: \n",
    "            return False\n",
    "    else:\n",
    "        if digito1 != 11-resto : \n",
    "            return False\n",
    "    return True\n",
    "\n",
    "def validacao2(base: str, digito2: int, digito1: int) -> bool:\n",
    "    base.insert(0,digito1)\n",
    "    resto = sum([int(j) * (i+2) for i,j in enumerate(base)])%11\n",
    "    if (not resto)  or resto == 1:\n",
    "        if digito2: \n",
    "            return False\n",
    "    else:\n",
    "        if digito2 != 11-resto : \n",
    "            return False\n",
    "    return True\n",
    "\n",
    "def validaCPF(cpf: str) -> bool:\n",
    "    cpf_pattern = '^\\d\\d\\d.\\d\\d\\d.\\d\\d\\d-\\d\\d$'\n",
    "    isformato = re.fullmatch(cpf_pattern,cpf)\n",
    "    \n",
    "    if (not isformato): \n",
    "        return False\n",
    "\n",
    "    sem_pontuacao = cpf.replace('.','').replace('-','')\n",
    "    verificador2,verificador1,*base = ''.join(reversed(sem_pontuacao))\n",
    "    verificador2 = int(verificador2)\n",
    "    verificador1 = int(verificador1)\n",
    "\n",
    "    if(not validacao1(base,verificador1)):\n",
    "        return False\n",
    "    if(not validacao2(base,verificador2,verificador1)):\n",
    "        return False\n",
    "    \n",
    "    return True\n",
    "    "
   ]
  },
  {
   "cell_type": "code",
   "execution_count": 20,
   "metadata": {},
   "outputs": [
    {
     "data": {
      "text/plain": [
       "True"
      ]
     },
     "execution_count": 20,
     "metadata": {},
     "output_type": "execute_result"
    }
   ],
   "source": [
    "cpf = '815.257.337-02'\n",
    "validaCPF(cpf)"
   ]
  },
  {
   "cell_type": "markdown",
   "metadata": {
    "id": "sSOkvvG9gJEv"
   },
   "source": [
    "**Número por extenso. Escreva um programa que solicite ao usuário a digitação de um número até 99 e imprima-o na tela por extenso.**"
   ]
  },
  {
   "cell_type": "code",
   "execution_count": 21,
   "metadata": {
    "id": "U_1CdSqAgLpL"
   },
   "outputs": [],
   "source": [
    "# Falta terminar o dicionario da função numero_extenso\n",
    "# É interessante colocar uma função para adicionar 'e' ou \n",
    "# espaço entre as palavras na hora da criação\n",
    "def inRange(num: str) -> bool:\n",
    "    range_pattern = '^\\d?\\d$'\n",
    "    inrange = re.match(range_pattern,num)\n",
    "    if inrange:\n",
    "        return True\n",
    "    else:\n",
    "        return False\n",
    "\n",
    "def numero_extenso(numero: str) -> Union[str,bool]:\n",
    "    if not inRange(numero):\n",
    "        return False\n",
    "    dicionario = {\n",
    "        0:'zero',\n",
    "        1:'um',\n",
    "        2:'dois',\n",
    "        3:'três',\n",
    "        4:'quatro',\n",
    "        5:'cinco',\n",
    "        6:'seis',\n",
    "        7:'sete',\n",
    "        8:'oito',\n",
    "        9:'nove'\n",
    "    }\n",
    "    resultado = [\n",
    "        dicionario[int(algarismo)] \n",
    "        for algarismo in numero\n",
    "        ]\n",
    "    resultado.insert(1,' ')\n",
    "    return ''.join(resultado)"
   ]
  },
  {
   "cell_type": "code",
   "execution_count": 22,
   "metadata": {},
   "outputs": [
    {
     "name": "stdout",
     "output_type": "stream",
     "text": [
      "oito oito\n"
     ]
    }
   ],
   "source": [
    "numero=input('Digite um número entre 0 e 99: ')\n",
    "print(numero_extenso(numero))"
   ]
  },
  {
   "cell_type": "markdown",
   "metadata": {
    "id": "grCkRd7FgMuR"
   },
   "source": [
    "**Jogo de Forca. Desenvolva um jogo da forca. O programa terá uma lista de palavras lidas de um arquivo texto e escolherá uma aleatoriamente. O jogador poderá errar 6 vezes antes de ser enforcado.**\n",
    "\n",
    "```\n",
    "Digite uma letra: A\n",
    "-> Você errou pela 1ª vez. Tente de novo!\n",
    "\n",
    "Digite uma letra: O\n",
    "A palavra é: _ _ _ _ O\n",
    "\n",
    "Digite uma letra: E\n",
    "A palavra é: _ E _ _ O\n",
    "\n",
    "Digite uma letra: S\n",
    "-> Você errou pela 2ª vez. Tente de novo!\n",
    "```\n",
    "\n"
   ]
  },
  {
   "cell_type": "code",
   "execution_count": 23,
   "metadata": {
    "id": "gaG5Tg0mgS3y"
   },
   "outputs": [],
   "source": [
    "def letra_underscore(acertos: Set[str], letra: str) -> str:\n",
    "    if letra in acertos:\n",
    "        return letra+' '\n",
    "    else:\n",
    "        return '_ '\n",
    "\n",
    "def Forca(palavra: List[str], acertos: Set[str]) -> List[str]:\n",
    "    func = partial(letra_underscore,acertos)\n",
    "    forca = [func(letra) for letra in palavra]\n",
    "    return forca\n",
    "\n",
    "def newline() -> None:\n",
    "    print('')\n",
    "\n",
    "def Jogo_Forca() -> None:\n",
    "    lista_palavras = [\n",
    "            'escrachado','escalafobético',\n",
    "            'armada','fechadura',\n",
    "            'convolução','assassinato'\n",
    "            ]\n",
    "    palavra = choice(lista_palavras)\n",
    "    i = 1\n",
    "    acertos = set({})\n",
    "    forca = partial(Forca,palavra)\n",
    "    print(f\"{''.join(forca(acertos))}\")\n",
    "    newline()\n",
    "    while(True):\n",
    "        letra = input('Digite uma letra: ')\n",
    "        if (letra in palavra):\n",
    "            acertos.add(letra)\n",
    "            print(f\"A palavra é: {''.join(forca(acertos))}\")\n",
    "            if(acertos == set(list(palavra))):\n",
    "                print('Você ganhou!')\n",
    "                break\n",
    "        else:\n",
    "            if(i == 3): \n",
    "                print(f'Você errou pela 3ª vez. Você perdeu!')\n",
    "                break\n",
    "            else:\n",
    "                print(f'Você errou pela {i}ª vez. Tente novamente!')\n",
    "            i += 1\n",
    "        newline()"
   ]
  },
  {
   "cell_type": "code",
   "execution_count": 24,
   "metadata": {},
   "outputs": [],
   "source": [
    "# Jogo_Forca()"
   ]
  },
  {
   "cell_type": "markdown",
   "metadata": {
    "id": "SSCL2Ab4gTet"
   },
   "source": [
    "**Valida e corrige número de telefone. Faça um programa que leia um número de telefone, e corrija o número no caso deste conter somente 7 dígitos, acrescentando o '3' na frente. O usuário pode informar o número com ou sem o traço separador.**\n",
    "\n",
    "\n",
    "\n",
    "```\n",
    "Valida e corrige número de telefone\n",
    "Telefone: 461-0133\n",
    "Telefone possui 7 dígitos. Vou acrescentar o digito três na frente.\n",
    "Telefone corrigido sem formatação: 34610133\n",
    "Telefone corrigido com formatação: 3461-0133\n",
    "```\n",
    "\n"
   ]
  },
  {
   "cell_type": "code",
   "execution_count": 39,
   "metadata": {
    "id": "UKOfW_EJgZLX"
   },
   "outputs": [],
   "source": [
    "def isTelefone(numero: str) -> bool:\n",
    "    istelefone = re.fullmatch('^(\\d?\\d\\d\\d-\\d\\d\\d\\d)|'\n",
    "                              '(\\d?\\d\\d\\d\\d\\d\\d\\d)$',numero)\n",
    "    if (not istelefone): \n",
    "        return False\n",
    "    return True\n",
    "\n",
    "def corrigeTelefone(numero: str) -> Union[None, str]:\n",
    "    if (not isTelefone(numero)): \n",
    "        return None \n",
    "    if (len(numero) == 7): \n",
    "        numero = '3'+numero\n",
    "    if (len(numero) == 8 and numero.find('-') != -1): \n",
    "        numero = '3'+numero\n",
    "    return numero\n",
    "        "
   ]
  },
  {
   "cell_type": "code",
   "execution_count": 40,
   "metadata": {},
   "outputs": [
    {
     "data": {
      "text/plain": [
       "'3555-5555'"
      ]
     },
     "execution_count": 40,
     "metadata": {},
     "output_type": "execute_result"
    }
   ],
   "source": [
    "telefone = '555-5555'\n",
    "corrigeTelefone(telefone)"
   ]
  },
  {
   "cell_type": "markdown",
   "metadata": {
    "id": "xGA_p4nMgZr7"
   },
   "source": [
    "**Jogo da palavra embaralhada. Desenvolva um jogo em que o usuário tenha que adivinhar uma palavra que será mostrada com as letras embaralhadas. O programa terá uma lista de palavras lidas de um arquivo texto e escolherá uma aleatoriamente. O jogador terá seis tentativas para adivinhar a palavra. Ao final a palavra deve ser mostrada na tela, informando se o usuário ganhou ou perdeu o jogo.**"
   ]
  },
  {
   "cell_type": "code",
   "execution_count": 27,
   "metadata": {
    "id": "95zhcZ2Mgc4n"
   },
   "outputs": [],
   "source": [
    "def scrambleWord(palavra: str, \n",
    "                 modo: str = 'lower') -> str:\n",
    "    if (modo == 'upper'): \n",
    "        palavra = palavra.upper()\n",
    "    else: \n",
    "        palavra = palavra.lower()\n",
    "    lista = list(palavra)\n",
    "    shuffle(lista)\n",
    "    return ''.join(lista)\n",
    "\n",
    "def newline():\n",
    "    print('')\n",
    "\n",
    "def Jogo_Palavra() -> None:\n",
    "    lista_palavras = [\n",
    "        'escrachado','escalafobético',\n",
    "        'armada','fechadura',\n",
    "        'convolução','assassinato'\n",
    "        ]\n",
    "    palavra = choice(lista_palavras)\n",
    "    embaralhada = scrambleWord(palavra)\n",
    "    i = 1\n",
    "    while(True):\n",
    "        print(embaralhada)\n",
    "        tentativa = input('Qual a palavra mostrada?')\n",
    "        if tentativa == palavra:\n",
    "            print('Você acertou!')\n",
    "            break\n",
    "        elif i == 6:\n",
    "            print('Você errou pela 6ª vez. Perdeu o jogo!')\n",
    "            break\n",
    "        else:\n",
    "            print(f'Você errou {i} vez! Tente novamente')\n",
    "            i += 1\n",
    "        newline()\n",
    "    print(f'A palavra era {palavra}!')"
   ]
  },
  {
   "cell_type": "code",
   "execution_count": 28,
   "metadata": {},
   "outputs": [],
   "source": [
    "# Jogo_Palavra()"
   ]
  },
  {
   "cell_type": "markdown",
   "metadata": {
    "id": "cXJgom_zgdWb"
   },
   "source": [
    "**Leet speek generator. Leet é uma forma de se escrever o alfabeto latino usando outros símbolos em lugar das letras, como números por exemplo. A própria palavra leet admite muitas variações, como l33t ou 1337. O uso do leet reflete uma subcultura relacionada ao mundo dos jogos de computador e internet, sendo muito usada para confundir os iniciantes e afirmar-se como parte de um grupo. Pesquise sobre as principais formas de traduzir as letras. Depois, faça um programa que peça uma texto e transforme-o para a grafia leet speak.**"
   ]
  },
  {
   "cell_type": "code",
   "execution_count": 29,
   "metadata": {},
   "outputs": [],
   "source": [
    "def leet_conversor(frase: str) -> str:\n",
    "    conversao: Dict[str,List[str]] = {\n",
    "    'a':['4','/\\\\','@','/-\\\\','^','ä','ª','aye'],\n",
    "    'b':['8', '6', '|3', 'ß', 'P>', '|:'],\n",
    "    'c':['[', '¢', '<', '('],\n",
    "    'd':['|))', 'o|', '[)', 'I>', '|>', '?'],\n",
    "    'e':['3', '&', '£', 'ë', '[-', '€', 'ê', '|=-'],\n",
    "    'f':['|=', 'ph', '|#'],\n",
    "    'g':['6', '&', '(_+', '9', 'C-', 'gee', '(,'],\n",
    "    'h':['#', '/-/', '[-]', '{=}','<~>', '|-|', \n",
    "         ']~[', '}{', ']-[', '?', '8', '}-{'],\n",
    "    'i':['1', '!', '|', '&', 'eye', '3y3', 'ï', '][', '[]'],\n",
    "    'j':['j', ';', '_/', '</', '(/'],\n",
    "    'k':['X', '|<', '|{', ']{', '}<', '|('],\n",
    "    'l':['1','7','1_', '|', '|_', '#', '¬', '£'],\n",
    "    'm':['//.', '^^', '|v|', '[V]', '{V}', '|\\/|', \n",
    "         '/\\\\/\\\\', '(u)', '[]V[]', '(V)', '/|\\\\', 'IVI'],\n",
    "    'n':['//', '^/', '|\\\\|', '/\\\\/', '[\\\\]', '<\\\\>', \n",
    "         '{\\\\}', '[]\\\\[]', 'n', '/V', '₪'],\n",
    "    'o':['0', '()', '?p','*', 'ö'],\n",
    "    'p':['|^', '|*', '|o', '|^(o)', '|>', '|\"', '9', '[]D', '|̊', '|7'],\n",
    "    'q':['q', '9', '(_,)', 'o'],\n",
    "    'r':['|2', 'P\\\\', '|?', '|^', 'lz', '[z', '12', 'Я'],\n",
    "    's':['5', '$', 'z', '§', 'ehs'],\n",
    "    't':['7', '+', '-|-', '1', '\\'][\\'', '\\\"|\\\"'],\n",
    "    'u':['(_)', '|_|', 'v', 'ü'],\n",
    "    'v':['\\\\/'],\n",
    "    'w':['\\\\/\\\\/', 'vv', '\\'//', '\\\\^/', '(n)', '\\\\V/', '\\\\//', '\\\\X/', '\\\\|/'],\n",
    "    'x':['><', 'Ж', 'ecks', ')('],\n",
    "    'y':['y', 'j', '`/', '¥'],\n",
    "    'z':['2', 'z', '~\\\\_', '~/_', '%']\n",
    "    }\n",
    "    frase = frase.lower()\n",
    "    resultado: List[str] = []\n",
    "    for char in iter(frase): \n",
    "        if char in set(conversao.keys()):\n",
    "           resultado.append(choice(conversao[char]))\n",
    "        else:\n",
    "            resultado.append(char)\n",
    "\n",
    "    return ''.join(resultado)\n"
   ]
  },
  {
   "cell_type": "code",
   "execution_count": 45,
   "metadata": {},
   "outputs": [
    {
     "name": "stdout",
     "output_type": "stream",
     "text": [
      "3ü (_+()§1* o|3 [8()(()|_^\"|\"ê. 9ü4[]\\[]?ö \\/?p(_) /\\* §|_||*[-[z[V]êЯ(@I>*, z3^^|̊P\\|=- (ö[V]|oЯ?p |>üaye$ |:ª|^12@z.\n"
     ]
    }
   ],
   "source": [
    "frase = ('Eu gosto de chocolate. '\n",
    "         'Quando vou ao supermercado, '\n",
    "         'sempre compro duas barras.')\n",
    "    \n",
    "print(leet_conversor(frase))\n"
   ]
  },
  {
   "cell_type": "code",
   "execution_count": null,
   "metadata": {},
   "outputs": [],
   "source": []
  }
 ],
 "metadata": {
  "colab": {
   "name": "ExerciciosComStrings.ipynb",
   "provenance": []
  },
  "interpreter": {
   "hash": "bbf7b13569e536aa5d7efa15e778e3407a163d0d7061aa8c5b82c99fb4d3a200"
  },
  "kernelspec": {
   "display_name": "Python 3.8.6 64-bit",
   "name": "python3"
  },
  "language_info": {
   "codemirror_mode": {
    "name": "ipython",
    "version": 3
   },
   "file_extension": ".py",
   "mimetype": "text/x-python",
   "name": "python",
   "nbconvert_exporter": "python",
   "pygments_lexer": "ipython3",
   "version": "3.8.6"
  }
 },
 "nbformat": 4,
 "nbformat_minor": 2
}
