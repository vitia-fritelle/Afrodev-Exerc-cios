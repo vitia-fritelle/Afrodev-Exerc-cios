{
 "cells": [
  {
   "cell_type": "code",
   "execution_count": 6,
   "metadata": {},
   "outputs": [],
   "source": [
    "from typing import List, Dict"
   ]
  },
  {
   "cell_type": "markdown",
   "metadata": {
    "id": "TUTFt2wUUwjv"
   },
   "source": [
    "# Arquivos"
   ]
  },
  {
   "cell_type": "markdown",
   "metadata": {
    "id": "U3YgMK12U7KW"
   },
   "source": [
    "**Faça um programa que leia um arquivo texto contendo uma lista de endereços IP e gere um outro arquivo, contendo um relatório dos endereços IP válidos e inválidos.**\n",
    "\n",
    "**O arquivo de entrada possui o seguinte formato:**\n",
    "```\n",
    "    200.135.80.9\n",
    "    192.168.1.1\n",
    "    8.35.67.74\n",
    "    257.32.4.5\n",
    "    85.345.1.2\n",
    "    1.2.3.4\n",
    "    9.8.234.5\n",
    "    192.168.0.256\n",
    "```\n",
    "**O arquivo de saída possui o seguinte formato:**\n",
    "```\n",
    "    [Endereços válidos:]\n",
    "    200.135.80.9\n",
    "    192.168.1.1\n",
    "    8.35.67.74\n",
    "    1.2.3.4\n",
    "\n",
    "    [Endereços inválidos:]\n",
    "    257.32.4.5\n",
    "    85.345.1.2\n",
    "    9.8.234.5\n",
    "    192.168.0.256\n",
    "```\n",
    "\n",
    "\n"
   ]
  },
  {
   "cell_type": "code",
   "execution_count": 7,
   "metadata": {
    "id": "sVS07VJOUsYY"
   },
   "outputs": [],
   "source": [
    "def getIPS(file: str) -> List[str]:\n",
    "    with open(file,'rt') as f:\n",
    "        IPS = [ip.rstrip('\\n') for ip in f.readlines()]\n",
    "    return(IPS)\n",
    "\n",
    "def writeValidos(\n",
    "    file: str, \n",
    "    ips: List[str], \n",
    "    validos: List[str] = [\n",
    "        '200.135.80.9',\n",
    "        '192.168.1.1',\n",
    "        '8.35.67.74',\n",
    "        '1.2.3.4'\n",
    "        ]) -> None:\n",
    "    with open(file, 'wt') as f:\n",
    "        f.write('[Endereços válidos:]\\n')\n",
    "        for ip in ips:\n",
    "            if ip in validos:\n",
    "                f.write(f'{ip}\\n')\n",
    "\n",
    "def writeInvalidos(\n",
    "    file: str, \n",
    "    ips: List[str], \n",
    "    invalidos: List[str] = [\n",
    "        '257.32.4.5',\n",
    "        '85.345.1.2',\n",
    "        '9.8.234.5',\n",
    "        '192.168.0.256'\n",
    "        ]) -> None:\n",
    "    with open(file, 'wt') as f:\n",
    "        f.write('[Endereços inválidos:]\\n')\n",
    "        for ip in ips:\n",
    "            if ip in invalidos:\n",
    "                f.write(f'{ip}\\n')\n",
    "        "
   ]
  },
  {
   "cell_type": "code",
   "execution_count": 8,
   "metadata": {},
   "outputs": [],
   "source": [
    "arquivo_entrada = '.\\\\assets\\\\lista_ips.txt'\n",
    "IPS = getIPS(arquivo_entrada)\n",
    "writeValidos('.\\\\assets\\\\validos.txt',IPS)\n",
    "writeInvalidos('.\\\\assets\\\\invalidos.txt',IPS)"
   ]
  },
  {
   "cell_type": "markdown",
   "metadata": {
    "id": "ffkCLmr8VOCA"
   },
   "source": [
    "**A ACME Inc., uma empresa de 500 funcionários, está tendo problemas de espaço em disco no seu servidor de arquivos. Para tentar resolver este problema, o Administrador de Rede precisa saber qual o espaço ocupado pelos usuários, e identificar os usuários com maior espaço ocupado. Através de um programa, baixado da Internet, ele conseguiu gerar o seguinte arquivo, chamado \"usuarios.txt\":**\n",
    "\n",
    "```\n",
    "alexandre       456123789\n",
    "anderson        1245698456\n",
    "antonio         123456456\n",
    "carlos          91257581\n",
    "cesar           987458\n",
    "rosemary        789456125\n",
    "```\n",
    "**Neste arquivo, o nome do usuário possui 15 caracteres. A partir deste arquivo, você deve criar um programa que gere um relatório, chamado \"relatório.txt\", no seguinte formato:**\n",
    "\n",
    "```\n",
    "ACME Inc.               Uso do espaço em disco pelos usuários\n",
    "------------------------------------------------------------------------\n",
    "Nr.  Usuário        Espaço utilizado     % do uso\n",
    "\n",
    "1    alexandre       434,99 MB             16,85%\n",
    "2    anderson       1187,99 MB             46,02%\n",
    "3    antonio         117,73 MB              4,56%\n",
    "4    carlos           87,03 MB              3,37%\n",
    "5    cesar             0,94 MB              0,04%\n",
    "6    rosemary        752,88 MB             29,16%\n",
    "\n",
    "Espaço total ocupado: 2581,57 MB\n",
    "Espaço médio ocupado: 430,26 MB\n",
    "```\n",
    "**O arquivo de entrada deve ser lido uma única vez, e os dados armazenados em memória, caso sejam necessários, de forma a agilizar a execução do programa. A conversão da espaço ocupado em disco, de bytes para megabytes deverá ser feita através de uma função separada, que será chamada pelo programa principal. O cálculo do percentual de uso também deverá ser feito através de uma função, que será chamada pelo programa principal.**\n",
    "\n"
   ]
  },
  {
   "cell_type": "code",
   "execution_count": 9,
   "metadata": {
    "id": "xig7UbekV7oD"
   },
   "outputs": [],
   "source": [
    "def getUsuarios(file: str) -> Dict[str,int]:\n",
    "    with open(file,'rt') as f:\n",
    "        usuarios = {linha.split()[0]:int(linha.split()[1]) \n",
    "                    for linha in f.readlines()}\n",
    "    return usuarios\n",
    "\n",
    "def converterMB(byte: int) -> float:\n",
    "    MB = float(byte)/(2 ** 20)\n",
    "    return MB\n",
    "\n",
    "def espacoTotal(vetor: List[float]) -> float:\n",
    "    return sum(vetor)\n",
    "\n",
    "def espacoMedio(vetor: List[float]) -> float:\n",
    "    return sum(vetor)/len(vetor)\n",
    "\n",
    "def espacoPorcentagem(vetor:List[float]) -> List[float]:\n",
    "    return [i*100/sum(vetor) for i in vetor]\n",
    "\n",
    "def writeRelatorio(usuarios: Dict[str,int], url: str) -> None:\n",
    "    memoria = [converterMB(i) for i in usuarios.values()]\n",
    "    usuarios = [usuario for usuario in usuarios.keys()]\n",
    "    porcentagem = espacoPorcentagem(memoria)\n",
    "    linhas = [f'{i+1:<5}{usuarios[i]:<15}{memoria[i]:>8.2f} MB'\n",
    "              +' '*13\n",
    "              +f'{porcentagem[i]:>5.2f}%\\n' \n",
    "              for i,_ in enumerate(usuarios)]\n",
    "    with open(url,'wt') as f:\n",
    "        f.write('ACME Inc.               \\\n",
    "            Uso do espaço em disco pelos usuários\\n')\n",
    "        f.write('-' * 73\n",
    "                +'\\n')\n",
    "        f.write(r\"Nr.  Usuário        Espaço utilizado     % do uso\"\n",
    "                +'\\n')\n",
    "        f.write('\\n')\n",
    "        for linha in linhas:\n",
    "            f.write(linha.replace('.',','))\n",
    "        f.write('\\n')\n",
    "        f.write(f\"Espaço total ocupado: \\\n",
    "        {espacoTotal(list(memoria)):.2f} MB\".replace('.',',')\n",
    "                +'\\n')\n",
    "        f.write(f\"Espaço médio ocupado: \\\n",
    "        {espacoMedio(list(memoria)):.2f} MB\".replace('.',','))\n"
   ]
  },
  {
   "cell_type": "code",
   "execution_count": 10,
   "metadata": {},
   "outputs": [],
   "source": [
    "arquivo_entrada = '.\\\\assets\\\\usuarios.txt'\n",
    "url = '.\\\\assets\\\\relatório.txt'\n",
    "usuarios = getUsuarios(arquivo_entrada)\n",
    "writeRelatorio(usuarios, url)"
   ]
  },
  {
   "cell_type": "code",
   "execution_count": null,
   "metadata": {},
   "outputs": [],
   "source": []
  }
 ],
 "metadata": {
  "colab": {
   "collapsed_sections": [],
   "name": "ExerciciosArquivos.ipynb",
   "provenance": []
  },
  "interpreter": {
   "hash": "bbf7b13569e536aa5d7efa15e778e3407a163d0d7061aa8c5b82c99fb4d3a200"
  },
  "kernelspec": {
   "display_name": "Python 3.8.6 64-bit",
   "name": "python3"
  },
  "language_info": {
   "codemirror_mode": {
    "name": "ipython",
    "version": 3
   },
   "file_extension": ".py",
   "mimetype": "text/x-python",
   "name": "python",
   "nbconvert_exporter": "python",
   "pygments_lexer": "ipython3",
   "version": "3.8.6"
  }
 },
 "nbformat": 4,
 "nbformat_minor": 1
}
