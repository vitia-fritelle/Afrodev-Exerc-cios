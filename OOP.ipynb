{
 "cells": [
  {
   "cell_type": "code",
   "execution_count": 91,
   "metadata": {},
   "outputs": [],
   "source": [
    "from typing import List, Dict, Union\n",
    "from random import randint"
   ]
  },
  {
   "cell_type": "code",
   "execution_count": 92,
   "metadata": {},
   "outputs": [
    {
     "name": "stdout",
     "output_type": "stream",
     "text": [
      "Exception reporting mode: Plain\n"
     ]
    }
   ],
   "source": [
    "%xmode Plain"
   ]
  },
  {
   "cell_type": "markdown",
   "metadata": {
    "id": "kSnECJ8JxbCu"
   },
   "source": [
    "# POO -  Programação Orientada a Objetos "
   ]
  },
  {
   "cell_type": "markdown",
   "metadata": {
    "id": "0nCCFOpexq_X"
   },
   "source": [
    "**Classe Bola: Crie uma classe que modele uma bola:**\n",
    "1. Atributos: Cor, circunferência, material\n",
    "2. Métodos: trocaCor e mostraCor\n",
    "\n"
   ]
  },
  {
   "cell_type": "code",
   "execution_count": 93,
   "metadata": {
    "id": "WwJHQsnoxXIj"
   },
   "outputs": [],
   "source": [
    "\n",
    "\n",
    "class Bola:\n",
    "\n",
    "\n",
    "    def __init__(self) -> None:\n",
    "        \n",
    "        self.cor: str = 'vermelha'\n",
    "        self.circunferencia: float = 12\n",
    "        self.material: str = 'plastico'\n",
    "    \n",
    "    def trocaCor(self,novacor: str) -> None:\n",
    "        self.cor = novacor\n",
    "\n",
    "    def mostraCor(self) -> None:\n",
    "        print(self.cor)"
   ]
  },
  {
   "cell_type": "markdown",
   "metadata": {
    "id": "GHlTXTq_yVKi"
   },
   "source": [
    "**Classe Quadrado: Crie uma classe que modele um quadrado:**\n",
    "1. Atributos: Tamanho do lado\n",
    "2. Métodos: Mudar valor do Lado, Retornar valor do Lado e calcular Área;\n"
   ]
  },
  {
   "cell_type": "code",
   "execution_count": 94,
   "metadata": {
    "id": "q2RhHzFjyZ5j"
   },
   "outputs": [],
   "source": [
    "\n",
    "\n",
    "class Quadrado:\n",
    "\n",
    "\n",
    "    def __init__(self, lado: float=1) -> None:\n",
    "        self.__lado: float = lado\n",
    "\n",
    "    def mudaLado(self,novo_lado: float) -> None:\n",
    "        self.__lado = novo_lado\n",
    "\n",
    "    def retornaLado(self) -> float:\n",
    "        return self.__lado\n",
    "\n",
    "    def area(self) -> float:\n",
    "        return self.__lado*self.__lado"
   ]
  },
  {
   "cell_type": "code",
   "execution_count": 95,
   "metadata": {},
   "outputs": [],
   "source": [
    "quad = Quadrado()"
   ]
  },
  {
   "cell_type": "markdown",
   "metadata": {
    "id": "r6qRkNM0yhp5"
   },
   "source": [
    "**Classe Retangulo: Crie uma classe que modele um retangulo:**\n",
    "1. Atributos: LadoA, LadoB (ou Comprimento e Largura, ou Base e Altura, a escolher)\n",
    "2. Métodos: Mudar valor dos lados, Retornar valor dos lados, calcular Área e calcular Perímetro;\n",
    "3. Crie um programa que utilize esta classe. Ele deve pedir ao usuário que informe as medidades de um local. Depois, deve criar um objeto com as medidas e calcular a quantidade de pisos e de rodapés necessárias para o local.\n"
   ]
  },
  {
   "cell_type": "code",
   "execution_count": 96,
   "metadata": {
    "id": "9Pb_wsUcys1S"
   },
   "outputs": [],
   "source": [
    "\n",
    "\n",
    "class Retangulo():\n",
    "\n",
    "\n",
    "    def __init__(self, ladoA=1, ladoB=2) -> None:\n",
    "\n",
    "        self.ladoA: float = ladoA\n",
    "        self.ladoB: float = ladoB\n",
    "\n",
    "    def mudaLadoA(self, novo_lado: float) -> None:\n",
    "\n",
    "        self.ladoA = novo_lado\n",
    "\n",
    "    def mudaLadoA(self, novo_lado: float) -> None:\n",
    "\n",
    "        self.ladoA = novo_lado\n",
    "\n",
    "    def retornaLadoA(self) -> float:\n",
    "\n",
    "        return self.ladoA\n",
    "\n",
    "    def retornaLadoB(self) -> float:\n",
    "\n",
    "        return self.ladoB\n",
    "\n",
    "    def area(self) -> float:\n",
    "\n",
    "        return self.ladoA*self.ladoB\n",
    "    "
   ]
  },
  {
   "cell_type": "code",
   "execution_count": 97,
   "metadata": {},
   "outputs": [],
   "source": [
    "rect=Retangulo()"
   ]
  },
  {
   "cell_type": "markdown",
   "metadata": {
    "id": "KXBM-DFCyteB"
   },
   "source": [
    "**Classe Pessoa: Crie uma classe que modele uma pessoa:**\n",
    "1. Atributos: nome, idade, peso e altura\n",
    "2. Métodos: Envelhercer, engordar, emagrecer, crescer. Obs: Por padrão, a cada ano que nossa pessoa envelhece, sendo a idade dela menor que 21 anos, ela deve crescer 0,5 cm."
   ]
  },
  {
   "cell_type": "code",
   "execution_count": 98,
   "metadata": {
    "id": "5U8gWuKoy0NL"
   },
   "outputs": [],
   "source": [
    "\n",
    "\n",
    "class Pessoa():\n",
    "\n",
    "\n",
    "    def __init__(self, nome: str, idade: float, \n",
    "                 peso: float, altura:float) -> None:\n",
    "\n",
    "        self.nome = nome\n",
    "        self.idade = idade\n",
    "        self.peso = peso\n",
    "        self.altura = altura\n",
    "        \n",
    "    def crescer(self, tamanho: float) -> None:\n",
    "\n",
    "        self.altura += tamanho\n",
    "\n",
    "    def envelhecer(self, anos: float) -> None:\n",
    "\n",
    "        if (self.anos < 21):\n",
    "            self.crescer(0.5*anos)\n",
    "        self.idade += anos\n",
    "\n",
    "    def engordar(self, ganho: float) -> None:\n",
    "\n",
    "        self.peso += ganho\n",
    "\n",
    "    def emagrecer(self, perda: float) -> None:\n",
    "\n",
    "        self.peso -= perda"
   ]
  },
  {
   "cell_type": "markdown",
   "metadata": {
    "id": "W2OmPreJy1FA"
   },
   "source": [
    "**Classe Conta Corrente: Crie uma classe para implementar uma conta corrente. A classe deve possuir os seguintes atributos: número da conta, nome do correntista e saldo. Os métodos são os seguintes: alterarNome, depósito e saque; No construtor, saldo é opcional, com valor default zero e os demais atributos são obrigatórios.**"
   ]
  },
  {
   "cell_type": "code",
   "execution_count": 99,
   "metadata": {
    "id": "yttpbjlAy4gj"
   },
   "outputs": [],
   "source": [
    "\n",
    "\n",
    "class Conta_Corrente():\n",
    "\n",
    "\n",
    "    def __init__(self, conta: int, nome: str, saldo: float = 0) -> None:\n",
    "\n",
    "        self.conta = conta\n",
    "        self.nome = nome\n",
    "        self.saldo = saldo\n",
    "    \n",
    "    def alterarNome(self, novo_nome: str) -> None:\n",
    "\n",
    "        self.nome = novo_nome\n",
    "\n",
    "    def deposito(self, valor: float) -> None:\n",
    "\n",
    "        self.saldo += valor\n",
    "\n",
    "    def saque(self, valor: float) -> None:\n",
    "\n",
    "        self.saldo -= valor\n",
    "\n",
    "    "
   ]
  },
  {
   "cell_type": "markdown",
   "metadata": {
    "id": "iBmyXl6xy5A5"
   },
   "source": [
    "**Classe TV: Faça um programa que simule um televisor criando-o como um objeto. O usuário deve ser capaz de informar o número do canal e aumentar ou diminuir o volume. Certifique-se de que o número do canal e o nível do volume permanecem dentro de faixas válidas.**"
   ]
  },
  {
   "cell_type": "code",
   "execution_count": 100,
   "metadata": {
    "id": "Swr4oRCUy7mG"
   },
   "outputs": [],
   "source": [
    "\n",
    "\n",
    "class TV():\n",
    "\n",
    "\n",
    "    def __init__(self, canal: int = 1, volume: int = 3) -> None:\n",
    "\n",
    "        self.canal = canal\n",
    "        self.volume = volume\n",
    "    \n",
    "    def __limitaCanal(canal: int) -> int:\n",
    "\n",
    "        if (canal >= 100):\n",
    "            canal = 100\n",
    "        elif(canal <= 0):\n",
    "            canal = 0\n",
    "        return(canal)\n",
    "\n",
    "    def __limitaVolume(volume: int) -> int:\n",
    "\n",
    "        if (volume >= 10):\n",
    "            volume = 10\n",
    "        elif(volume <= 0):\n",
    "            volume = 0\n",
    "        return(volume)\n",
    "\n",
    "    def setCanal(self, canal: int) -> None:\n",
    "\n",
    "        self.canal = self.__limitaCanal(canal)\n",
    "        \n",
    "    def setVolume(self, volume: int) -> None:\n",
    "        \n",
    "        self.volume = self.__limitaVolume(volume)\n"
   ]
  },
  {
   "cell_type": "markdown",
   "metadata": {
    "id": "Q5F2FENAy8PX"
   },
   "source": [
    "**Classe Bichinho Virtual:Crie uma classe que modele um Tamagushi (Bichinho Eletrônico):**\n",
    "\n",
    "1. Atributos: Nome, Fome, Saúde e Idade b. Métodos: Alterar Nome, Fome, Saúde e Idade; Retornar Nome, Fome, Saúde e Idade Obs: Existe mais uma informação que devemos levar em consideração, o Humor do nosso tamagushi, este humor é uma combinação entre os atributos Fome e Saúde, ou seja, um campo calculado, então não devemos criar um atributo para armazenar esta informação por que ela pode ser calculada a qualquer momento."
   ]
  },
  {
   "cell_type": "code",
   "execution_count": 101,
   "metadata": {
    "id": "5BMpjko0zIHk"
   },
   "outputs": [],
   "source": [
    "\n",
    "\n",
    "class Tamagochi():\n",
    "\n",
    "\n",
    "    def __init__(self, nome: str, fome: int, \n",
    "                 saude: int, idade: int) -> None:\n",
    "\n",
    "        self.nome = nome\n",
    "        self.fome = fome\n",
    "        self.saude = saude\n",
    "        self.idade = idade\n",
    "    \n",
    "    def alteraNome(self, nome: str) -> None:\n",
    "\n",
    "        self.nome = nome\n",
    "\n",
    "    def alteraFome(self, fome: int) -> None:\n",
    "\n",
    "        self.fome = fome\n",
    "\n",
    "    def alteraSaude(self, saude: int) -> None:\n",
    "\n",
    "        self.saude = saude\n",
    "\n",
    "    def alteraIdade(self, idade: int) -> None:\n",
    "\n",
    "        self.idade = idade\n",
    "\n",
    "    def retornaNome(self) -> None:\n",
    "\n",
    "        return self.nome\n",
    "\n",
    "    def retornaFome(self) -> None:\n",
    "\n",
    "        return self.fome\n",
    "\n",
    "    def retornaSaude(self) -> None:\n",
    "\n",
    "        return self.saude\n",
    "\n",
    "    def retornaIdade(self) -> None:\n",
    "\n",
    "        return self.idade\n",
    "\n",
    "    def retornaHumor(self) -> None:\n",
    "\n",
    "        humor = (self.saude+self.fome) / 2\n",
    "        return humor"
   ]
  },
  {
   "cell_type": "code",
   "execution_count": 102,
   "metadata": {},
   "outputs": [],
   "source": [
    "bichinho = Tamagochi('José Luiz', 50, 100, 3)"
   ]
  },
  {
   "cell_type": "markdown",
   "metadata": {
    "id": "QafrCFunzIzP"
   },
   "source": [
    "**Classe Macaco: Desenvolva uma classe Macaco,que possua os atributos nome e bucho (estomago) e pelo menos os métodos comer(), verBucho() e digerir(). Faça um programa ou teste interativamente, criando pelo menos dois macacos, alimentando-os com pelo menos 3 alimentos diferentes e verificando o conteúdo do estomago a cada refeição. Experimente fazer com que um macaco coma o outro. É possível criar um macaco canibal?**"
   ]
  },
  {
   "cell_type": "code",
   "execution_count": 103,
   "metadata": {
    "id": "cnt6XW0TzMYd"
   },
   "outputs": [],
   "source": [
    "\n",
    "\n",
    "class Macaco():\n",
    "\n",
    "\n",
    "    def __init__(self, nome: str, bucho: List[str]=[]) -> None:\n",
    "\n",
    "        #se eu passar diretamente bucho, não dá certo :O\n",
    "        self.nome = nome\n",
    "        self.bucho = [*bucho]\n",
    "    \n",
    "    def comer(self, comida: str) -> None:\n",
    "\n",
    "        self.bucho.append(comida)\n",
    "    \n",
    "    def verBucho(self) -> None:\n",
    "\n",
    "        print(self.bucho)\n",
    "\n",
    "    def digerir(self) -> None:\n",
    "        \n",
    "        self.bucho = []"
   ]
  },
  {
   "cell_type": "code",
   "execution_count": 104,
   "metadata": {},
   "outputs": [
    {
     "name": "stdout",
     "output_type": "stream",
     "text": [
      "['banana']\n",
      "['banana', 'morango']\n",
      "['banana', 'morango', 'kiwi']\n",
      "['maçã']\n"
     ]
    }
   ],
   "source": [
    "surdo = Macaco('Tião')\n",
    "cego = Macaco('vettel')\n",
    "mudo = Macaco('Lúcio')\n",
    "\n",
    "cego.comer('banana')\n",
    "cego.verBucho()\n",
    "cego.comer('morango')\n",
    "cego.verBucho()\n",
    "cego.comer('kiwi')\n",
    "cego.verBucho()\n",
    "surdo.comer('maçã')\n",
    "surdo.verBucho()\n",
    "\n",
    "cego.digerir()\n",
    "surdo.digerir()"
   ]
  },
  {
   "cell_type": "markdown",
   "metadata": {
    "id": "58I6f_5EzM59"
   },
   "source": [
    "**Classe Ponto e Retangulo: Faça um programa completo utilizando funções e classes que:**\n",
    "1. Possua uma classe chamada Ponto, com os atributos x e y.\n",
    "2. Possua uma classe chamada Retangulo, com os atributos largura e altura.\n",
    "3. Possua uma função para imprimir os valores da classe Ponto\n",
    "4. Possua uma função para encontrar o centro de um Retângulo.\n",
    "5. Você deve criar alguns objetos da classe Retangulo.\n",
    "6. Cada objeto deve ter um vértice de partida, por exemplo, o vértice inferior esquerdo do retângulo, que deve ser um objeto da classe Ponto.\n",
    "7. A função para encontrar o centro do retângulo deve retornar o valor para um objeto do tipo ponto que indique os valores de x e y para o centro do objeto.\n",
    "8. O valor do centro do objeto deve ser mostrado na tela\n",
    "9. Crie um menu para alterar os valores do retângulo e imprimir o centro deste retângulo."
   ]
  },
  {
   "cell_type": "code",
   "execution_count": 105,
   "metadata": {
    "id": "KpYNYQfpzb0y"
   },
   "outputs": [],
   "source": [
    "\n",
    "\n",
    "class Ponto():\n",
    "\n",
    "\n",
    "    def __init__(self, x: float = 0, y: float = 0) -> None:\n",
    "\n",
    "        self.x = x\n",
    "        self.y = y\n",
    "\n",
    "    def retornaPonto(self) -> tuple:\n",
    "\n",
    "        return((self.x,self.y))\n",
    "\n",
    "    def imprimePonto(self) -> None:\n",
    "\n",
    "        print(self.retornaPonto())\n",
    "\n",
    "\n",
    "class Retangulo():\n",
    "\n",
    "\n",
    "    def __init__(self, largura: float=1, \n",
    "                 altura: float=1, x: float=0, \n",
    "                 y: float=0) -> None:\n",
    "\n",
    "        self.altura = altura\n",
    "        self.largura = largura\n",
    "        self.vertice = Ponto(x,y)\n",
    "    \n",
    "    def centro(self) -> Ponto:\n",
    "\n",
    "        xc = self.largura/2\n",
    "        yc = self.altura/2\n",
    "        xv,yv = self.vertice.retornaPonto()\n",
    "        ponto = Ponto(xv+xc,yv+yc)\n",
    "        ponto.imprimePonto()\n",
    "        return ponto.retornaPonto()\n",
    "\n",
    "    def menu(self, largura: float = 1, altura: float = 1) -> None:\n",
    "        \n",
    "        self.altura = altura\n",
    "        self.largura = largura\n",
    "        self.centro()\n"
   ]
  },
  {
   "cell_type": "code",
   "execution_count": 106,
   "metadata": {},
   "outputs": [
    {
     "name": "stdout",
     "output_type": "stream",
     "text": [
      "(10, 15)\n",
      "(1.5, 3.5)\n",
      "(1.0, 2.5)\n"
     ]
    }
   ],
   "source": [
    "ponto1 = Ponto(10,15)\n",
    "ponto1.imprimePonto()\n",
    "\n",
    "rect = Retangulo(3,7,0,0)\n",
    "rect.centro()\n",
    "rect.menu(2,5)"
   ]
  },
  {
   "cell_type": "markdown",
   "metadata": {
    "id": "b-p0hcntzciP"
   },
   "source": [
    "**Classe Bomba de Combustível: Faça um programa completo utilizando classes e métodos que:**\n",
    "1. Possua uma classe chamada bombaCombustível, com no mínimo esses atributos:\n",
    "* tipoCombustivel.\n",
    "* valorLitro\n",
    "* quantidadeCombustivel\n",
    "2. Possua no mínimo esses métodos:\n",
    "* abastecerPorValor( ) – método onde é informado o valor a ser abastecido e mostra a quantidade de litros que foi colocada no veículo\n",
    "* abastecerPorLitro( ) – método onde é informado a quantidade em litros de combustível e mostra o valor a ser pago pelo cliente.\n",
    "* alterarValor( ) – altera o valor do litro do combustível.\n",
    "* alterarCombustivel( ) – altera o tipo do combustível.\n",
    "* alterarQuantidadeCombustivel( ) – altera a quantidade de combustível restante na bomba.\n",
    "\n",
    "*OBS: Sempre que acontecer um abastecimento é necessário atualizar a quantidade de combustível total na bomba.*"
   ]
  },
  {
   "cell_type": "code",
   "execution_count": 107,
   "metadata": {
    "id": "CDxb6ALuz0xo"
   },
   "outputs": [],
   "source": [
    "\n",
    "\n",
    "class BombaCombustivel():\n",
    "\n",
    "\n",
    "    def __init__(self, tipo: str, valor: float, quanti: float) -> None:\n",
    "\n",
    "\n",
    "        self.tipoCombustivel = tipo\n",
    "        self.valorLitro = valor\n",
    "        self.quantidadeCombustivel = quanti\n",
    "        \n",
    "    def abastecerPorValor(self, valor: float) -> None:\n",
    "\n",
    "        quantidade = valor/self.valorLitro\n",
    "        self.quantidadeCombustivel -= quantidade\n",
    "        print('A quantidade abastecida é'\n",
    "              f' de {quantidade:.2f} litros'.replace('.',','))\n",
    "\n",
    "    def abastecerPorLitro(self, litros_comb: float) ->  None:\n",
    "\n",
    "        self.quantidadeCombustivel -= litros_comb\n",
    "        valor = self.valorLitro*litros_comb\n",
    "        print(f'O valor a ser pago é R${valor:.2f}'.replace('.',','))\n",
    "\n",
    "    def alterarValor(self, valor: float) -> None:\n",
    "\n",
    "        self.valorLitro = valor\n",
    "\n",
    "    def alterarCombustivel(self, tipo: str) -> None:\n",
    "\n",
    "        self.tipoCombustivel = tipo\n",
    "    \n",
    "    def alterarQuantidadeCombustivel(self, \n",
    "                                     quanti_combustivel: float) -> None:\n",
    "\n",
    "        self.quantidadeCombustivel = quanti_combustivel"
   ]
  },
  {
   "cell_type": "code",
   "execution_count": 108,
   "metadata": {},
   "outputs": [
    {
     "name": "stdout",
     "output_type": "stream",
     "text": [
      "100\n",
      "diesel\n",
      "5.999\n",
      "O valor a ser pago é R$29,99\n",
      "A quantidade abastecida é de 3,33 litros\n"
     ]
    }
   ],
   "source": [
    "bomba=BombaCombustivel('gasolina',9.999,10)\n",
    "bomba.alterarQuantidadeCombustivel(100)\n",
    "print(bomba.quantidadeCombustivel)\n",
    "bomba.alterarCombustivel('diesel')\n",
    "print(bomba.tipoCombustivel)\n",
    "bomba.alterarValor(5.999)\n",
    "print(bomba.valorLitro)\n",
    "bomba.abastecerPorLitro(5)\n",
    "bomba.abastecerPorValor(20)"
   ]
  },
  {
   "cell_type": "markdown",
   "metadata": {
    "id": "RE8OBp9mz3MK"
   },
   "source": [
    "**Classe carro: Implemente uma classe chamada Carro com as seguintes propriedades:**\n",
    "\n",
    "1. Um veículo tem um certo consumo de combustível (medidos em km / litro) e uma certa quantidade de combustível no tanque.\n",
    "2. O consumo é especificado no construtor e o nível de combustível inicial é 0.\n",
    "3. Forneça um método andar( ) que simule o ato de dirigir o veículo por uma certa distância, reduzindo o nível de combustível no tanque de gasolina.\n",
    "4. Forneça um método obterGasolina( ), que retorna o nível atual de combustível.\n",
    "5. Forneça um método adicionarGasolina( ), para abastecer o tanque. Exemplo de uso:\n",
    "\n",
    "```\n",
    "      meuFusca = Carro(15);           # 15 quilômetros por litro de combustível. \n",
    "      meuFusca.adicionarGasolina(20); # abastece com 20 litros de combustível. \n",
    "      meuFusca.andar(100);            # anda 100 quilômetros.\n",
    "      meuFusca.obterGasolina()        # Imprime o combustível que resta no tanque.\n",
    "```\n",
    "\n",
    "\n"
   ]
  },
  {
   "cell_type": "code",
   "execution_count": 109,
   "metadata": {
    "id": "URHnfKy40OsX"
   },
   "outputs": [],
   "source": [
    "\n",
    "\n",
    "class Carro():\n",
    "\n",
    "\n",
    "    def __init__(self, consumo: float) -> None:\n",
    "\n",
    "        self.consumo = consumo\n",
    "        self.quanti_comb = 0\n",
    "    \n",
    "    def andar(self,distancia: float) -> None:\n",
    "\n",
    "        self.quanti_comb -= distancia/self.consumo\n",
    "    \n",
    "    def obterGasolina(self) -> None:\n",
    "\n",
    "        return self.quanti_comb\n",
    "    \n",
    "    def adicionarGasolina(self, comb: float) -> None:\n",
    "        \n",
    "        self.quanti_comb += comb"
   ]
  },
  {
   "cell_type": "code",
   "execution_count": 110,
   "metadata": {},
   "outputs": [
    {
     "data": {
      "text/plain": [
       "70.0"
      ]
     },
     "execution_count": 110,
     "metadata": {},
     "output_type": "execute_result"
    }
   ],
   "source": [
    "ferrari = Carro(10)\n",
    "ferrari.adicionarGasolina(100)\n",
    "ferrari.andar(300)\n",
    "ferrari.obterGasolina()"
   ]
  },
  {
   "cell_type": "markdown",
   "metadata": {
    "id": "s6Cz02ah0SNg"
   },
   "source": [
    "**Classe Conta de Investimento: Faça uma classe contaInvestimento que seja semelhante a classe contaBancaria, com a diferença de que se adicione um atributo taxaJuros. Forneça um construtor que configure tanto o saldo inicial como a taxa de juros. Forneça um método adicioneJuros (sem parâmetro explícito) que adicione juros à conta. Escreva um programa que construa uma poupança com um saldo inicial de R$1000,00 e uma taxa de juros de 10%. Depois aplique o método adicioneJuros() cinco vezes e imprime o saldo resultante.**"
   ]
  },
  {
   "cell_type": "code",
   "execution_count": 111,
   "metadata": {
    "id": "KcXSuZDi0WBd"
   },
   "outputs": [],
   "source": [
    "#Aqui não seria conta corrente?\n",
    "\n",
    "\n",
    "class contaBancaria:\n",
    "\n",
    "\n",
    "    def __init__():\n",
    "\n",
    "        return\n",
    "        \n",
    "\n",
    "class contaInvestimento(contaBancaria):\n",
    "\n",
    "\n",
    "    def __init__(self, juros: float, saldo_inicial: float) -> None:\n",
    "\n",
    "        self.taxaJuros = juros\n",
    "        self.saldo = saldo_inicial\n",
    "\n",
    "    def adicioneJuros(self):\n",
    "        \n",
    "        self.saldo *= (1+self.taxaJuros)"
   ]
  },
  {
   "cell_type": "code",
   "execution_count": 112,
   "metadata": {},
   "outputs": [
    {
     "name": "stdout",
     "output_type": "stream",
     "text": [
      "R$1610,51\n"
     ]
    }
   ],
   "source": [
    "conta=contaInvestimento(0.1,1000)\n",
    "for _ in iter(range(5)): \n",
    "    conta.adicioneJuros()\n",
    "print(f'R${conta.saldo:.2f}'.replace('.',','))"
   ]
  },
  {
   "cell_type": "markdown",
   "metadata": {
    "id": "3hF_r5ow0Wpp"
   },
   "source": [
    "**Classe Funcionário: Implemente a classe Funcionário. Um empregado tem um nome (um string) e um salário(um double). Escreva um construtor com dois parâmetros (nome e salário) e métodos para devolver nome e salário. Escreva um pequeno programa que teste sua classe.**"
   ]
  },
  {
   "cell_type": "code",
   "execution_count": 113,
   "metadata": {
    "id": "inUgTcRg0aF5"
   },
   "outputs": [],
   "source": [
    "\n",
    "\n",
    "class Funcionario:\n",
    "\n",
    "\n",
    "    def __init__(self, nome: str, salario: float) -> None:\n",
    "\n",
    "        self.nome = nome\n",
    "        self.salario = salario\n",
    "    \n",
    "    def devolveNome(self) -> str:\n",
    "\n",
    "        return(self.nome)\n",
    "    \n",
    "    def devolveSalario(self) -> float:\n",
    "\n",
    "        return(self.salario)"
   ]
  },
  {
   "cell_type": "code",
   "execution_count": 114,
   "metadata": {},
   "outputs": [
    {
     "name": "stdout",
     "output_type": "stream",
     "text": [
      "Quando Euler foi à Rússia, ele ganhou da imperatriz de todas as Rússias um salário de 20000,00 rublos\n"
     ]
    }
   ],
   "source": [
    "euler = Funcionario('Euler', 20000)\n",
    "print(f\"Quando {euler.devolveNome().capitalize()} foi à Rússia, \"\n",
    "      \"ele ganhou da imperatriz de todas as Rússias um salário de \"\n",
    "      f\"{euler.devolveSalario():.2f} rublos\".replace('.',','))"
   ]
  },
  {
   "cell_type": "markdown",
   "metadata": {
    "id": "spfmau9Y0aih"
   },
   "source": [
    "**Aprimore a classe do exercício anterior para adicionar o método aumentarSalario (porcentualDeAumento) que aumente o salário do funcionário em uma certa porcentagem.**\n",
    "\n",
    "Exemplo de uso:\n",
    "```\n",
    "    harry=funcionário(\"Harry\",25000)\n",
    "    harry.aumentarSalario(10)\n",
    "```\n",
    "\n"
   ]
  },
  {
   "cell_type": "code",
   "execution_count": 115,
   "metadata": {
    "id": "Syh04OYl0npN"
   },
   "outputs": [],
   "source": [
    "\n",
    "\n",
    "class Funcionario2(Funcionario):\n",
    "\n",
    "\n",
    "    def __init__(self, nome: str, salario: float) -> None:\n",
    "\n",
    "        super().__init__(nome, salario)\n",
    "    \n",
    "    def aumentarSalario(self, percentualDeAumento: float) -> None:\n",
    "\n",
    "        self.salario *= (1 + percentualDeAumento/100)"
   ]
  },
  {
   "cell_type": "code",
   "execution_count": 116,
   "metadata": {},
   "outputs": [
    {
     "name": "stdout",
     "output_type": "stream",
     "text": [
      "Quando Euler foi à Rússia, ele ganhou da imperatriz de todas as Rússias um salário de 20000,00 rublos.\n",
      "Catarina, a Grande (em vários sentidos), ficou tão satisfeita com os serviços de Euler que deu a ele um aumento,\n",
      "Agora, o salário de Euler é 25000,00 rublos.\n"
     ]
    }
   ],
   "source": [
    "euler = Funcionario2('Euler', 20000)\n",
    "nome = euler.nome.capitalize()\n",
    "print(f\"Quando {nome} foi à Rússia, \"\n",
    "      \"ele ganhou da imperatriz de todas as Rússias um salário de \"\n",
    "      f\"{euler.devolveSalario():.2f} rublos\".replace('.',','), \n",
    "      end = '.\\n')\n",
    "euler.aumentarSalario(25)\n",
    "print(\"Catarina, a Grande (em vários sentidos), ficou tão \"\n",
    "      f\"satisfeita com os serviços de {nome} \"\n",
    "      \"que deu a ele um aumento.\\n\"\n",
    "      f\"Agora, o salário de {nome} é \"\n",
    "      f\"{euler.devolveSalario():.2f} rublos\".replace('.',','), \n",
    "      end = '.\\n')"
   ]
  },
  {
   "cell_type": "markdown",
   "metadata": {
    "id": "faf3UrmR0oc3"
   },
   "source": [
    "**Classe Bichinho Virtual++: Melhore o programa do bichinho virtual, permitindo que o usuário especifique quanto de comida ele fornece ao bichinho e por quanto tempo ele brinca com o bichinho. Faça com que estes valores afetem quão rapidamente os níveis de fome e tédio caem.**"
   ]
  },
  {
   "cell_type": "code",
   "execution_count": 117,
   "metadata": {
    "id": "UEa6WPbV0qzY"
   },
   "outputs": [],
   "source": [
    "\n",
    "\n",
    "class TamagochiSmart(Tamagochi):\n",
    "\n",
    "\n",
    "    def __init__(self, nome: str, fome: int, \n",
    "                 saude: int, idade: int) -> None:\n",
    "\n",
    "        super().__init__(nome,fome,saude,idade)\n",
    "        self.comida = 0\n",
    "        self.tempo_brincando = 0\n",
    "        self.nivel_fome = 'fast'\n",
    "        self.nivel_tedio = 'low'\n",
    "\n",
    "    def setNivelFome(self, comida: float) -> None:\n",
    "\n",
    "        if(comida >= 10): \n",
    "            self.nivel_fome = 'slow'\n",
    "        elif(comida < 10 and comida > 5): \n",
    "            self.nivel_fome = 'normal'\n",
    "        else: \n",
    "            self.nivel_fome = 'fast'\n",
    "\n",
    "    def setNivelTedio(self, tempo: float) -> None:\n",
    "\n",
    "        if(tempo >= 10): \n",
    "            self.nivel_tedio = 'slow'\n",
    "        elif(tempo < 10 and tempo > 5): \n",
    "            self.nivel_tedio = 'normal'\n",
    "        else: \n",
    "            self.nivel_tedio = 'fast'\n",
    "\n",
    "    def setComida(self, comida: float) -> None:\n",
    "\n",
    "        self.comida = comida\n",
    "        self.setNivelFome(comida)\n",
    "    \n",
    "    def setTempo(self, tempo: float) -> None:\n",
    "\n",
    "        self.tempo_brincando = tempo\n",
    "        self.setNivelTedio(tempo)"
   ]
  },
  {
   "cell_type": "markdown",
   "metadata": {
    "id": "vRTpX8Om0rd1"
   },
   "source": [
    "**Crie uma \"porta escondida\" no programa do programa do bichinho virtual que mostre os valores exatos dos atributos do objeto. Consiga isto mostrando o objeto quando uma opção secreta, não listada no menu, for informada na escolha do usuário. Dica: acrescente um método especial str() à classe Bichinho.**"
   ]
  },
  {
   "cell_type": "code",
   "execution_count": 118,
   "metadata": {
    "id": "gst2bXBf0up-"
   },
   "outputs": [],
   "source": [
    "\n",
    "\n",
    "class Bichinho(TamagochiSmart):\n",
    "\n",
    "\n",
    "    def __init__(self, nome: str, fome: int, \n",
    "                 saude: int, idade: int) -> None:\n",
    "\n",
    "        super().__init__(nome,fome,saude,idade)\n",
    "    \n",
    "    def __str__(self):\n",
    "        \n",
    "        return (f\"{self.nome}(fome: {self.fome}, \"\n",
    "                f\"saúde: {self.saude}, \"\n",
    "                f\"idade: {self.idade}, \"\n",
    "                f\"comida: {self.comida}, \"\n",
    "                f\"tempo brincando: {self.tempo_brincando}, \"\n",
    "                f\"nível de fome: {self.nivel_fome}, \"\n",
    "                f\"nível de tédio: {self.nivel_tedio})\")\n",
    "        "
   ]
  },
  {
   "cell_type": "code",
   "execution_count": 119,
   "metadata": {},
   "outputs": [
    {
     "name": "stdout",
     "output_type": "stream",
     "text": [
      "pikachu(fome: 100, saúde: 100, idade: 3, comida: 0, tempo brincando: 0, nível de fome: fast, nível de tédio: low)\n"
     ]
    }
   ],
   "source": [
    "pokemon = Bichinho('pikachu',100,100,3)\n",
    "print(pokemon)"
   ]
  },
  {
   "cell_type": "markdown",
   "metadata": {
    "id": "1Rr1f1Gw0vOX"
   },
   "source": [
    "**Crie uma Fazenda de Bichinhos instanciando vários objetos bichinho e mantendo o controle deles através de uma lista. Imite o funcionamento do programa básico, mas ao invés de exigis que o usuário tome conta de um único bichinho, exija que ele tome conta da fazenda inteira. Cada opção do menu deveria permitir que o usuário executasse uma ação para todos os bichinhos (alimentar todos os bichinhos, brincar com todos os bichinhos, ou ouvir a todos os bichinhos). Para tornar o programa mais interessante, dê para cada bichinho um nivel inicial aleatório de fome e tédio.**"
   ]
  },
  {
   "cell_type": "code",
   "execution_count": 120,
   "metadata": {
    "id": "mQgmewR70ym6"
   },
   "outputs": [
    {
     "name": "stdout",
     "output_type": "stream",
     "text": [
      "4\n",
      "100\n"
     ]
    }
   ],
   "source": [
    "digimon = Bichinho('agumon',randint(0,100),randint(0,100),8)\n",
    "pokemon = Bichinho('pikachu',randint(0,100),randint(0,100),3)\n",
    "ave = Bichinho('beija-flor',randint(0,100),randint(0,100),3)\n",
    "\n",
    "fazenda = {digimon.nome:digimon, pokemon.nome:pokemon, ave.nome:ave}\n",
    "\n",
    "def alimentarBichinhos() -> None:\n",
    "\n",
    "    for animal in fazenda.values():\n",
    "        animal.alteraFome(100)\n",
    "\n",
    "def cuidarSaudeBichinhos() -> None:\n",
    "    \n",
    "    for animal in fazenda.values():\n",
    "        animal.alteraSaude(100)\n",
    "print(digimon.fome)\n",
    "alimentarBichinhos()\n",
    "cuidarSaudeBichinhos()\n",
    "print(digimon.fome)"
   ]
  },
  {
   "cell_type": "code",
   "execution_count": null,
   "metadata": {},
   "outputs": [],
   "source": []
  }
 ],
 "metadata": {
  "colab": {
   "name": "OOP.ipynb",
   "provenance": []
  },
  "interpreter": {
   "hash": "bbf7b13569e536aa5d7efa15e778e3407a163d0d7061aa8c5b82c99fb4d3a200"
  },
  "kernelspec": {
   "display_name": "Python 3.8.6 64-bit",
   "name": "python3"
  },
  "language_info": {
   "codemirror_mode": {
    "name": "ipython",
    "version": 3
   },
   "file_extension": ".py",
   "mimetype": "text/x-python",
   "name": "python",
   "nbconvert_exporter": "python",
   "pygments_lexer": "ipython3",
   "version": "3.8.6"
  }
 },
 "nbformat": 4,
 "nbformat_minor": 1
}
