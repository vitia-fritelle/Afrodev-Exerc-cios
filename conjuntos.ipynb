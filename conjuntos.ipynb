{
 "cells": [
  {
   "cell_type": "markdown",
   "metadata": {
    "id": "h3Q1G79ys1Eu"
   },
   "source": [
    "# Conjuntos - Set"
   ]
  },
  {
   "cell_type": "markdown",
   "metadata": {
    "id": "_WC61Ctxs50R"
   },
   "source": [
    "**Escreva um programa Python para criar um conjunto.**"
   ]
  },
  {
   "cell_type": "code",
   "execution_count": 46,
   "metadata": {
    "id": "L_NcvlkTsysm"
   },
   "outputs": [],
   "source": [
    "conjuntoPython = set({})"
   ]
  },
  {
   "cell_type": "code",
   "execution_count": 47,
   "metadata": {},
   "outputs": [
    {
     "data": {
      "text/plain": [
       "set()"
      ]
     },
     "execution_count": 47,
     "metadata": {},
     "output_type": "execute_result"
    }
   ],
   "source": [
    "conjuntoPython"
   ]
  },
  {
   "cell_type": "markdown",
   "metadata": {
    "id": "ezkcetwdtA2i"
   },
   "source": [
    "**Escreva um programa Python para iteração em conjuntos.**"
   ]
  },
  {
   "cell_type": "code",
   "execution_count": 48,
   "metadata": {
    "id": "SVmNH84YtEQ_"
   },
   "outputs": [
    {
     "data": {
      "text/plain": [
       "{'a', 'b', 'c', 'd', 'e', 'f', 'g'}"
      ]
     },
     "execution_count": 48,
     "metadata": {},
     "output_type": "execute_result"
    }
   ],
   "source": [
    "conjunto1 = {'a','b','c','d'}\n",
    "conjunto2 = {'e','f','g','a'}\n",
    "#conjunto1.union(conjunto2)\n",
    "conjunto1 | conjunto2"
   ]
  },
  {
   "cell_type": "markdown",
   "metadata": {
    "id": "_Hyh5onetEtz"
   },
   "source": [
    "**Escreva um programa Python para adicionar um item a um conjunto.**"
   ]
  },
  {
   "cell_type": "code",
   "execution_count": 49,
   "metadata": {
    "id": "2BeIZn-8tMJM"
   },
   "outputs": [
    {
     "name": "stdout",
     "output_type": "stream",
     "text": [
      "set()\n",
      "{'a'}\n"
     ]
    }
   ],
   "source": [
    "conjunto3 = set()\n",
    "print(conjunto3)\n",
    "conjunto3.add('a')\n",
    "print(conjunto3)"
   ]
  },
  {
   "cell_type": "markdown",
   "metadata": {
    "id": "0Uzx_FpotO0b"
   },
   "source": [
    "**Escreva um programa Python para remover item (ns) de um determinado conjunto.**"
   ]
  },
  {
   "cell_type": "code",
   "execution_count": 50,
   "metadata": {
    "id": "SUW3mTqJtSoR"
   },
   "outputs": [
    {
     "name": "stdout",
     "output_type": "stream",
     "text": [
      "{'a', 'c', 'b'}\n",
      "{'c', 'b'}\n"
     ]
    }
   ],
   "source": [
    "conjunto4 = {'a','b','c'}\n",
    "print(conjunto4)\n",
    "conjunto4.remove('a')\n",
    "print(conjunto4)"
   ]
  },
  {
   "cell_type": "markdown",
   "metadata": {
    "id": "ayUviB_ztTC-"
   },
   "source": [
    "**Escreva um programa Python para remover um item de um conjunto, se estiver presente no conjunto**"
   ]
  },
  {
   "cell_type": "code",
   "execution_count": 51,
   "metadata": {
    "id": "V1Haw3UJtWV6"
   },
   "outputs": [
    {
     "name": "stdout",
     "output_type": "stream",
     "text": [
      "{'a', 'c', 'b'}\n",
      "{'a', 'c'}\n"
     ]
    }
   ],
   "source": [
    "conjunto4 = {'a','b','c'}\n",
    "print(conjunto4)\n",
    "conjunto4.discard('b')\n",
    "print(conjunto4)"
   ]
  },
  {
   "cell_type": "markdown",
   "metadata": {
    "id": "DERjLROrtWzk"
   },
   "source": [
    "**Escreva um programa Python para criar uma interseção de conjuntos.**"
   ]
  },
  {
   "cell_type": "code",
   "execution_count": 52,
   "metadata": {
    "id": "Ax3ymRTWtavL"
   },
   "outputs": [
    {
     "data": {
      "text/plain": [
       "{'a'}"
      ]
     },
     "execution_count": 52,
     "metadata": {},
     "output_type": "execute_result"
    }
   ],
   "source": [
    "conjunto5 = {'a','b','c','d'}\n",
    "conjunto6 = {'e','f','g','a'}\n",
    "#conjunto5.intersection(conjunto6)\n",
    "conjunto5 & conjunto6"
   ]
  },
  {
   "cell_type": "markdown",
   "metadata": {
    "id": "A5PoiORvtbO5"
   },
   "source": [
    "**Escreva um programa Python para criar uma união de conjuntos.**"
   ]
  },
  {
   "cell_type": "code",
   "execution_count": 53,
   "metadata": {
    "id": "9HJgoJv5tg3r"
   },
   "outputs": [],
   "source": [
    "def uniaoConjuntos(*args: set) -> set:\n",
    "    return {elemento \n",
    "            for conjunto in args \n",
    "            for elemento in conjunto}"
   ]
  },
  {
   "cell_type": "code",
   "execution_count": 60,
   "metadata": {},
   "outputs": [],
   "source": [
    "def uniaoConjuntos2(*args: set) -> set:\n",
    "    if len(args) == 1:\n",
    "        return args[0]\n",
    "    else: \n",
    "        return args[0]|uniaoConjuntos2(*args[1:])"
   ]
  },
  {
   "cell_type": "code",
   "execution_count": 65,
   "metadata": {},
   "outputs": [],
   "source": [
    "def uniaoConjuntos3(*args: set) -> set:\n",
    "    resultado=set({})\n",
    "    for conj in iter(args):\n",
    "        resultado.update(conj)\n",
    "    return resultado\n",
    "    "
   ]
  },
  {
   "cell_type": "code",
   "execution_count": 61,
   "metadata": {},
   "outputs": [
    {
     "data": {
      "text/plain": [
       "{'a', 'b', 'c', 'd', 'e', 'f', 'g'}"
      ]
     },
     "execution_count": 61,
     "metadata": {},
     "output_type": "execute_result"
    }
   ],
   "source": [
    "uniaoConjuntos(conjunto1,conjunto2,conjunto3,conjunto4,conjunto5,conjunto6)"
   ]
  },
  {
   "cell_type": "code",
   "execution_count": 62,
   "metadata": {},
   "outputs": [
    {
     "data": {
      "text/plain": [
       "{'a', 'b', 'c', 'd', 'e', 'f', 'g'}"
      ]
     },
     "execution_count": 62,
     "metadata": {},
     "output_type": "execute_result"
    }
   ],
   "source": [
    "uniaoConjuntos2(conjunto1,conjunto2,conjunto3,conjunto4,conjunto5,conjunto6)"
   ]
  },
  {
   "cell_type": "code",
   "execution_count": 66,
   "metadata": {},
   "outputs": [
    {
     "data": {
      "text/plain": [
       "{'a', 'b', 'c', 'd', 'e', 'f', 'g'}"
      ]
     },
     "execution_count": 66,
     "metadata": {},
     "output_type": "execute_result"
    }
   ],
   "source": [
    "uniaoConjuntos3(conjunto1,conjunto2,conjunto3,conjunto4,conjunto5,conjunto6)"
   ]
  },
  {
   "cell_type": "markdown",
   "metadata": {
    "id": "jDIiMpAMthSi"
   },
   "source": [
    "**Escreva um programa Python para criar diferença definida.**"
   ]
  },
  {
   "cell_type": "code",
   "execution_count": 67,
   "metadata": {
    "id": "F824A6IrtkVM"
   },
   "outputs": [
    {
     "data": {
      "text/plain": [
       "{'b', 'c', 'd'}"
      ]
     },
     "execution_count": 67,
     "metadata": {},
     "output_type": "execute_result"
    }
   ],
   "source": [
    "#conjunto5.difference(conjunto6)\n",
    "conjunto5 - conjunto6"
   ]
  },
  {
   "cell_type": "markdown",
   "metadata": {
    "id": "mP8UGqC8tkvQ"
   },
   "source": [
    "**Escreva um programa Python para criar uma diferença simétrica.**"
   ]
  },
  {
   "cell_type": "code",
   "execution_count": 68,
   "metadata": {
    "id": "az8OrPKAtoA8"
   },
   "outputs": [
    {
     "data": {
      "text/plain": [
       "{'b', 'c', 'd', 'e', 'f', 'g'}"
      ]
     },
     "execution_count": 68,
     "metadata": {},
     "output_type": "execute_result"
    }
   ],
   "source": [
    "#conjunto5.symmetric_difference(conjunto6)\n",
    "conjunto5 ^ conjunto6"
   ]
  },
  {
   "cell_type": "markdown",
   "metadata": {
    "id": "vzF0YOsKtofN"
   },
   "source": [
    "**Escreva um programa Python para verificar se um conjunto é um subconjunto de outro conjunto.**"
   ]
  },
  {
   "cell_type": "code",
   "execution_count": 70,
   "metadata": {
    "id": "n1IgV_37tsPt"
   },
   "outputs": [
    {
     "data": {
      "text/plain": [
       "True"
      ]
     },
     "execution_count": 70,
     "metadata": {},
     "output_type": "execute_result"
    }
   ],
   "source": [
    "conjunto4.issubset(conjunto1)"
   ]
  },
  {
   "cell_type": "markdown",
   "metadata": {
    "id": "H-29CAnntsmj"
   },
   "source": [
    "**Escreva um programa Python para criar uma cópia superficial dos conjuntos.**\n",
    "\n",
    "*Nota: Cópia superficial é uma cópia bit a bit de um objeto. É criado um novo objeto que possui uma cópia exata dos valores do objeto original.*"
   ]
  },
  {
   "cell_type": "code",
   "execution_count": 72,
   "metadata": {
    "id": "AOmFr2-ot2ID"
   },
   "outputs": [
    {
     "data": {
      "text/plain": [
       "{'a', 'b', 'c', 'd'}"
      ]
     },
     "execution_count": 72,
     "metadata": {},
     "output_type": "execute_result"
    }
   ],
   "source": [
    "#É isso aqui que ele quer?\n",
    "conjunto1.copy()"
   ]
  },
  {
   "cell_type": "markdown",
   "metadata": {
    "id": "GK1_6bMZt3Fv"
   },
   "source": [
    "**Escreva um programa Python para remover todos os elementos de um determinado conjunto.**"
   ]
  },
  {
   "cell_type": "code",
   "execution_count": 73,
   "metadata": {
    "id": "aaa_gPaTt-RV"
   },
   "outputs": [],
   "source": [
    "conjunto1.clear()"
   ]
  },
  {
   "cell_type": "markdown",
   "metadata": {
    "id": "YH5JJjUWt-uc"
   },
   "source": [
    "**Escreva um programa Python para encontrar o valor máximo e mínimo em um conjunto.**"
   ]
  },
  {
   "cell_type": "code",
   "execution_count": 75,
   "metadata": {
    "id": "Nz5o64gnuGLC"
   },
   "outputs": [
    {
     "data": {
      "text/plain": [
       "15"
      ]
     },
     "execution_count": 75,
     "metadata": {},
     "output_type": "execute_result"
    }
   ],
   "source": [
    "conjunto7 = {1,5,2,3,6,4,6,7,11,14,15}\n",
    "max(conjunto7)"
   ]
  },
  {
   "cell_type": "code",
   "execution_count": 76,
   "metadata": {},
   "outputs": [
    {
     "data": {
      "text/plain": [
       "1"
      ]
     },
     "execution_count": 76,
     "metadata": {},
     "output_type": "execute_result"
    }
   ],
   "source": [
    "min(conjunto7)"
   ]
  },
  {
   "cell_type": "markdown",
   "metadata": {
    "id": "QFIatLtAuKxY"
   },
   "source": [
    "**Escreva um programa Python para encontrar o comprimento de um conjunto.**"
   ]
  },
  {
   "cell_type": "code",
   "execution_count": 77,
   "metadata": {
    "id": "pbOYyxoFuL-V"
   },
   "outputs": [
    {
     "data": {
      "text/plain": [
       "10"
      ]
     },
     "execution_count": 77,
     "metadata": {},
     "output_type": "execute_result"
    }
   ],
   "source": [
    "len(conjunto7)"
   ]
  },
  {
   "cell_type": "code",
   "execution_count": null,
   "metadata": {},
   "outputs": [],
   "source": []
  }
 ],
 "metadata": {
  "colab": {
   "name": "conjuntos.ipynb",
   "provenance": []
  },
  "interpreter": {
   "hash": "bbf7b13569e536aa5d7efa15e778e3407a163d0d7061aa8c5b82c99fb4d3a200"
  },
  "kernelspec": {
   "display_name": "Python 3 (ipykernel)",
   "language": "python",
   "name": "python3"
  },
  "language_info": {
   "codemirror_mode": {
    "name": "ipython",
    "version": 3
   },
   "file_extension": ".py",
   "mimetype": "text/x-python",
   "name": "python",
   "nbconvert_exporter": "python",
   "pygments_lexer": "ipython3",
   "version": "3.8.6"
  }
 },
 "nbformat": 4,
 "nbformat_minor": 2
}
