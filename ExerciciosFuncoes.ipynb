{
 "cells": [
  {
   "cell_type": "code",
   "execution_count": 44,
   "metadata": {},
   "outputs": [],
   "source": [
    "from typing import Union, Set, List\n",
    "from random import choice, shuffle\n",
    "from itertools import permutations\n",
    "import re\n",
    "import numpy as np"
   ]
  },
  {
   "cell_type": "markdown",
   "metadata": {
    "id": "mN9NfcazTEOa"
   },
   "source": [
    "## Funções "
   ]
  },
  {
   "cell_type": "markdown",
   "metadata": {
    "id": "OFD5ExjBQeeo"
   },
   "source": [
    "**Faça um programa para imprimir:**\n",
    "\n",
    "\n",
    "\n",
    "```\n",
    "    1\n",
    "    2   2\n",
    "    3   3   3\n",
    "    .....\n",
    "    n   n   n   n   n   n  ... n\n",
    "```\n",
    "\n",
    "para um **n** informado pelo usuário. Use uma função que receba um valor **n** inteiro e imprima até a n-ésima linha.\n",
    "\n"
   ]
  },
  {
   "cell_type": "code",
   "execution_count": 45,
   "metadata": {
    "id": "hfch9cN-QQSN"
   },
   "outputs": [],
   "source": [
    "def piramide1(n: int) -> None:\n",
    "    lista_linhas = ((f\"{i} \"*i).rstrip() \n",
    "                  for i in iter(range(1,n+1)))\n",
    "    for linha in lista_linhas:\n",
    "        print(linha)\n"
   ]
  },
  {
   "cell_type": "code",
   "execution_count": 46,
   "metadata": {},
   "outputs": [
    {
     "name": "stdout",
     "output_type": "stream",
     "text": [
      "1\n",
      "2 2\n",
      "3 3 3\n",
      "4 4 4 4\n",
      "5 5 5 5 5\n",
      "6 6 6 6 6 6\n",
      "7 7 7 7 7 7 7\n",
      "8 8 8 8 8 8 8 8\n",
      "9 9 9 9 9 9 9 9 9\n"
     ]
    }
   ],
   "source": [
    "piramide1(9)"
   ]
  },
  {
   "cell_type": "markdown",
   "metadata": {
    "id": "g_wUdiGURigX"
   },
   "source": [
    "**Faça um programa para imprimir:**\n",
    "\n",
    "```\n",
    "    1\n",
    "    1   2\n",
    "    1   2   3\n",
    "    .....\n",
    "    1   2   3   ...  n\n",
    "```\n",
    "\n",
    "para um **n** informado pelo usuário. Use uma função que receba um valor **n** inteiro imprima até a **n**-ésima linha.\n",
    "\n"
   ]
  },
  {
   "cell_type": "code",
   "execution_count": 47,
   "metadata": {
    "id": "oMzs-yg5RtJd"
   },
   "outputs": [],
   "source": [
    "def piramide2(n: int) -> None:\n",
    "    linha = \"\"\n",
    "    for i in iter(range(1,n+1)):\n",
    "        linha += f\"{i} \"\n",
    "        print(linha.rstrip())"
   ]
  },
  {
   "cell_type": "code",
   "execution_count": 48,
   "metadata": {},
   "outputs": [
    {
     "name": "stdout",
     "output_type": "stream",
     "text": [
      "1\n",
      "1 2\n",
      "1 2 3\n",
      "1 2 3 4\n",
      "1 2 3 4 5\n",
      "1 2 3 4 5 6\n",
      "1 2 3 4 5 6 7\n",
      "1 2 3 4 5 6 7 8\n",
      "1 2 3 4 5 6 7 8 9\n"
     ]
    }
   ],
   "source": [
    "piramide2(9)"
   ]
  },
  {
   "cell_type": "markdown",
   "metadata": {
    "id": "XfF7sM--R91K"
   },
   "source": [
    "**Faça um programa, com uma função que necessite de três argumentos, e que forneça a soma desses três argumentos.**"
   ]
  },
  {
   "cell_type": "code",
   "execution_count": 49,
   "metadata": {
    "id": "qkQZri-0SBM6"
   },
   "outputs": [],
   "source": [
    "def somaTres(num1: Union[float,int],num2 :Union[float,int],\n",
    "             num3: Union[float,int]) -> Union[float,int]:\n",
    "    soma = num1+num2+num3\n",
    "    return(soma)"
   ]
  },
  {
   "cell_type": "code",
   "execution_count": 50,
   "metadata": {},
   "outputs": [
    {
     "data": {
      "text/plain": [
       "6"
      ]
     },
     "execution_count": 50,
     "metadata": {},
     "output_type": "execute_result"
    }
   ],
   "source": [
    "somaTres(1,2,3)"
   ]
  },
  {
   "cell_type": "markdown",
   "metadata": {
    "id": "vT_YJ-_3SBn9"
   },
   "source": [
    "**Faça um programa, com uma função que necessite de um argumento. A função retorna o valor de caractere ‘P’, se seu argumento for positivo, e ‘N’, se seu argumento for zero ou negativo.**"
   ]
  },
  {
   "cell_type": "code",
   "execution_count": 51,
   "metadata": {
    "id": "GbuacdZZSGEB"
   },
   "outputs": [],
   "source": [
    "def NorP(valor: Union[float,int]) -> str:\n",
    "    if (valor > 0): \n",
    "        return 'P'\n",
    "    else: \n",
    "        return 'N'"
   ]
  },
  {
   "cell_type": "code",
   "execution_count": 52,
   "metadata": {},
   "outputs": [
    {
     "name": "stdout",
     "output_type": "stream",
     "text": [
      "P\n",
      "N\n",
      "N\n"
     ]
    }
   ],
   "source": [
    "print(NorP(10))\n",
    "print(NorP(0))\n",
    "print(NorP(-10))"
   ]
  },
  {
   "cell_type": "markdown",
   "metadata": {
    "id": "_J3S3DF-SGpa"
   },
   "source": [
    "**Faça um programa com uma função chamada somaImposto. A função possui dois parâmetros formais: taxaImposto, que é a quantia de imposto sobre vendas expressa em porcentagem e custo, que é o custo de um item antes do imposto. A função “altera” o valor de custo para incluir o imposto sobre vendas.**"
   ]
  },
  {
   "cell_type": "code",
   "execution_count": 53,
   "metadata": {
    "id": "gdLd7R4xSOWa"
   },
   "outputs": [],
   "source": [
    "def somaImposto(taxaImposto: Union[float,int],\n",
    "                custo: Union[float,int]) -> Union[float,int]:\n",
    "    taxaImposto *= 0.01\n",
    "    custo *= (1+taxaImposto)\n",
    "    return(custo)"
   ]
  },
  {
   "cell_type": "code",
   "execution_count": 54,
   "metadata": {},
   "outputs": [
    {
     "name": "stdout",
     "output_type": "stream",
     "text": [
      "12.0\n"
     ]
    }
   ],
   "source": [
    "custo: Union[int,float] = 10\n",
    "taxa: Union[int,float] = 20\n",
    "custo = somaImposto(taxa,custo)\n",
    "print(custo)"
   ]
  },
  {
   "cell_type": "markdown",
   "metadata": {
    "id": "i5j0AI9_SQUq"
   },
   "source": [
    "**Faça um programa que converta da notação de 24 horas para a notação de 12 horas. Por exemplo, o programa deve converter 14:25 em 2:25 P.M. A entrada é dada em dois inteiros. Deve haver pelo menos duas funções: uma para fazer a conversão e uma para a saída. Registre a informação A.M./P.M. como um valor ‘A’ para A.M. e ‘P’ para P.M. Assim, a função para efetuar as conversões terá um parâmetro formal para registrar se é A.M. ou P.M. Inclua um loop que permita que o usuário repita esse cálculo para novos valores de entrada todas as vezes que desejar**"
   ]
  },
  {
   "cell_type": "code",
   "execution_count": 55,
   "metadata": {
    "id": "QQNQmEvYSVWB"
   },
   "outputs": [],
   "source": [
    "def converterHorario(horas: int, minutos: int) -> Union[None, tuple]:\n",
    "    if(horas >= 12 and horas <= 24): \n",
    "        turno = 'P'\n",
    "    elif(horas < 12 and horas >= 0): \n",
    "        turno = 'A'\n",
    "    else: \n",
    "        print('Insira um valor válido'); \n",
    "        return None\n",
    "\n",
    "    horas %= 12\n",
    "    return horas,minutos,turno\n",
    "\n",
    "def retornarHorario(horas: int, minutos: int, turno: str) -> str:\n",
    "    registro = {'A':'A.M.','P':'P.M.'}\n",
    "    return(f\"{horas:02d}:{minutos:02d} {registro[turno]}\")\n",
    "\n",
    "def conversaoImpressaoHorario(horas: int, minutos: int) -> str:\n",
    "    horarioConvertido = converterHorario(horas,minutos)\n",
    "    hora, minuto, turno = horarioConvertido\n",
    "    return retornarHorario(hora, minuto,turno)\n",
    "    "
   ]
  },
  {
   "cell_type": "code",
   "execution_count": 56,
   "metadata": {},
   "outputs": [
    {
     "name": "stdout",
     "output_type": "stream",
     "text": [
      "O horário inicial é 18:04.\n",
      "O horário convertido é           06:04 P.M. \n",
      "\n",
      "O horário inicial é 06:11.\n",
      "O horário convertido é           06:11 A.M. \n",
      "\n",
      "O horário inicial é 20:08.\n",
      "O horário convertido é           08:08 P.M. \n",
      "\n",
      "O horário inicial é 01:30.\n",
      "O horário convertido é           01:30 A.M. \n",
      "\n",
      "O horário inicial é 18:10.\n",
      "O horário convertido é           06:10 P.M. \n",
      "\n"
     ]
    }
   ],
   "source": [
    "horasPossiveis = [hora for hora in range(1,25)]\n",
    "minutosPossiveis = [minutos for minutos in range(1,61)]\n",
    "\n",
    "for _ in iter(range(5)):\n",
    "    hora = choice(horasPossiveis)\n",
    "    minutos = choice(minutosPossiveis)\n",
    "    print(f\"O horário inicial é {hora:02d}:{minutos:02d}.\")\n",
    "    print(f\"O horário convertido é \\\n",
    "          {conversaoImpressaoHorario(hora, minutos)} \\n\")"
   ]
  },
  {
   "cell_type": "markdown",
   "metadata": {
    "id": "pgP_sIO0SVyY"
   },
   "source": [
    "**Faça um programa que use a função valorPagamento para determinar o valor a ser pago por uma prestação de uma conta. O programa deverá solicitar ao usuário o valor da prestação e o número de dias em atraso e passar estes valores para a função valorPagamento, que calculará o valor a ser pago e devolverá este valor ao programa que a chamou. O programa deverá então exibir o valor a ser pago na tela. Após a execução o programa deverá voltar a pedir outro valor de prestação e assim continuar até que seja informado um valor igual a zero para a prestação. Neste momento o programa deverá ser encerrado, exibindo o relatório do dia, que conterá a quantidade e o valor total de prestações pagas no dia. O cálculo do valor a ser pago é feito da seguinte forma. Para pagamentos sem atraso, cobrar o valor da prestação. Quando houver atraso, cobrar 3% de multa, mais 0,1% de juros por dia de atraso.**"
   ]
  },
  {
   "cell_type": "code",
   "execution_count": 57,
   "metadata": {
    "id": "5LlHaQ10SZDp"
   },
   "outputs": [],
   "source": [
    "def valorPagamento(prestacao: float, atraso: int)->float:\n",
    "    multa = 0.03\n",
    "    juros = 0.1/100\n",
    "    if (atraso <= 0):\n",
    "        pagamento = prestacao\n",
    "    else:\n",
    "        pagamento = prestacao * (1+multa) * (1+(juros * atraso))\n",
    "    print(f'{pagamento:.2f}'.replace('.',','))\n",
    "    return pagamento"
   ]
  },
  {
   "cell_type": "code",
   "execution_count": 58,
   "metadata": {},
   "outputs": [],
   "source": [
    "# p = 1\n",
    "# lista = []\n",
    "# while(True):\n",
    "#     p = float(input(\"Insira a prestação: \"))\n",
    "#     if (not p):\n",
    "#         break\n",
    "#     a = float(input(\"Insira os dias em atraso: \"))\n",
    "#     lista.append(valorPagamento(p,a))\n",
    "\n",
    "# relatorio=f\"Número de prestações: {len(lista)}\\n\\\n",
    "# Valor Total das prestações: {sum(lista):.2f}\".replace('.',',')\n",
    "# print(relatorio)"
   ]
  },
  {
   "cell_type": "markdown",
   "metadata": {
    "id": "7QN_BPa8SZmK"
   },
   "source": [
    "**Faça uma função que informe a quantidade de dígitos de um determinado número inteiro informado.**"
   ]
  },
  {
   "cell_type": "code",
   "execution_count": 59,
   "metadata": {
    "id": "1egzHj3ESg1w"
   },
   "outputs": [],
   "source": [
    "def quantidadeDigitos(numero: int) -> int:\n",
    "    digitos = len(str(numero))\n",
    "    return digitos"
   ]
  },
  {
   "cell_type": "code",
   "execution_count": 60,
   "metadata": {},
   "outputs": [
    {
     "name": "stdout",
     "output_type": "stream",
     "text": [
      "A quantidade de dígitos de 100 é 3.\n"
     ]
    }
   ],
   "source": [
    "N: int = 100\n",
    "print(f'A quantidade de dígitos de {N} é {quantidadeDigitos(N)}.')"
   ]
  },
  {
   "cell_type": "markdown",
   "metadata": {
    "id": "ZMIz_AC3ShYB"
   },
   "source": [
    "**Reverso do número.** Faça uma função que retorne o reverso de um número inteiro informado. Por exemplo: 127 -> 721."
   ]
  },
  {
   "cell_type": "code",
   "execution_count": 61,
   "metadata": {
    "id": "weEFkEpxSmCE"
   },
   "outputs": [],
   "source": [
    "def reversoNumero(numero: int) -> int:\n",
    "    reverso = str(numero)[::-1]\n",
    "    return int(reverso)"
   ]
  },
  {
   "cell_type": "code",
   "execution_count": 62,
   "metadata": {},
   "outputs": [
    {
     "name": "stdout",
     "output_type": "stream",
     "text": [
      "O reverso de 19952000 é 25991\n"
     ]
    }
   ],
   "source": [
    "N: int = 19952000\n",
    "#Se quiser que os zeros iniciais apareçam é mais fácil alterar na função\n",
    "print(f'O reverso de {N!s} é {reversoNumero(N)}')"
   ]
  },
  {
   "cell_type": "markdown",
   "metadata": {
    "id": "g15AaiobSoCH"
   },
   "source": [
    "**Jogo de Craps.** Faça um programa de implemente um jogo de Craps. O jogador lança um par de dados, obtendo um valor entre 2 e 12. Se, na primeira jogada, você tirar 7 ou 11, você um \"natural\" e ganhou. Se você tirar 2, 3 ou 12 na primeira jogada, isto é chamado de \"craps\" e você perdeu. Se, na primeira jogada, você fez um 4, 5, 6, 8, 9 ou 10,este é seu \"Ponto\". Seu objetivo agora é continuar jogando os dados até tirar este número novamente. Você perde, no entanto, se tirar um 7 antes de tirar este Ponto novamente."
   ]
  },
  {
   "cell_type": "code",
   "execution_count": 63,
   "metadata": {
    "id": "ywJbHz3DSqv2"
   },
   "outputs": [],
   "source": [
    "def JogarDados() -> int:\n",
    "    lista = [i for i in range(2,12+1)]\n",
    "    rng = np.random.default_rng()\n",
    "    return rng.choice(lista,p = [1./36,2./36,3./36,\n",
    "                                 4./36,5./36,6./36,\n",
    "                                 5./36,4./36,3./36,\n",
    "                                 2./36,1./36])\n",
    "def primeiraJogada(x: int) -> bool:\n",
    "    if (x == 7 or x == 11):\n",
    "        print(f\"Você tirou {x}, é um 'natural' e ganhou!\")\n",
    "        return False\n",
    "    elif (((x == 2) or x == 3) or x == 12):\n",
    "        print(f\"Você tirou {x}, 'craps' e perdeu!\")\n",
    "        return False\n",
    "    else:\n",
    "        print(f\"Você tirou {x} e marcou um 'ponto'!\")\n",
    "        return True\n",
    "\n",
    "def outrasJogadas(x: int,primeiraJogada: int) -> bool:\n",
    "    if (x == 7):\n",
    "        print(f\"Você tirou 7 e perdeu!\")\n",
    "        return False\n",
    "    elif (x == primeiraJogada):\n",
    "        print('Você tirou a mesma coisa que na primeira jogada e ganhou!')\n",
    "        return False\n",
    "    else:\n",
    "        print(f'Você tirou {x}.')\n",
    "        return True\n"
   ]
  },
  {
   "cell_type": "code",
   "execution_count": 64,
   "metadata": {},
   "outputs": [
    {
     "name": "stdout",
     "output_type": "stream",
     "text": [
      "Vamos jogar CRAPS!\n",
      "Você tirou 7, é um 'natural' e ganhou!\n"
     ]
    }
   ],
   "source": [
    "i: int = 0\n",
    "print('Vamos jogar CRAPS!')\n",
    "while(True):\n",
    "    i += 1\n",
    "    valor = JogarDados()\n",
    "    if (i == 1):\n",
    "        flag = primeiraJogada(valor)\n",
    "        if(not flag): \n",
    "            break\n",
    "        valorPrimeiraJogada = valor\n",
    "        lancamento = input('Quer lançar os dados novamente? (S/N)')\n",
    "        if (lancamento == 'N'):\n",
    "            break\n",
    "    else: \n",
    "        flag = outrasJogadas(valor, valorPrimeiraJogada)\n",
    "        if(not flag): \n",
    "            break\n",
    "        lancamento = input('Quer lançar os dados novamente? (S/N)')\n",
    "        if (lancamento == 'N'):\n",
    "            break"
   ]
  },
  {
   "cell_type": "markdown",
   "metadata": {
    "id": "Z7psSn6QSs_R"
   },
   "source": [
    "**Data com mês por extenso.** Construa uma função que receba uma data no formato DD/MM/AAAA (string) e devolva uma string no formato D de mesPorExtenso de AAAA. Opcionalmente, valide a data e retorne None caso a data seja inválida."
   ]
  },
  {
   "cell_type": "code",
   "execution_count": 65,
   "metadata": {
    "id": "_-YiVq_USueK"
   },
   "outputs": [],
   "source": [
    "#Aqui ele recebe como string? SIM\n",
    "#Quando você fala de retornar NULL você quer dizer None? SIM\n",
    "\n",
    "def converterData(data: str) -> Union[str,None]:\n",
    "    meses = [\n",
    "        'janeiro',\n",
    "        'fevereiro', \n",
    "        'março',\n",
    "        'abril',\n",
    "        'maio',\n",
    "        'junho',\n",
    "        'julho',\n",
    "        'agosto',\n",
    "        'setembro',\n",
    "        'outubro',\n",
    "        'novembro',\n",
    "        'dezembro'\n",
    "        ]\n",
    "    isdata = re.fullmatch('^(0?[1-9] |1[0-9]| 2[0-9]|3[0-1])/\\\n",
    "                        (0?[1-9]|1[0-2])/\\\n",
    "                        \\d\\d\\d\\d$',data)\n",
    "    if(isdata):\n",
    "        dia, mes, ano = tuple(data.split('/'))\n",
    "        dataExtenso = f'{dia} \\\n",
    "        de {meses[int(mes)-1]} \\\n",
    "        de {ano}'\n",
    "        return(dataExtenso)\n",
    "    else:\n",
    "        return None"
   ]
  },
  {
   "cell_type": "code",
   "execution_count": 66,
   "metadata": {},
   "outputs": [
    {
     "name": "stdout",
     "output_type": "stream",
     "text": [
      "None\n"
     ]
    }
   ],
   "source": [
    "print(converterData('12/10/2021'))"
   ]
  },
  {
   "cell_type": "markdown",
   "metadata": {
    "id": "hrCLui_7SvVQ"
   },
   "source": [
    "**Embaralha palavra.** Construa uma função que receba uma string como parâmetro e devolva outra string com os carateres embaralhados. Por exemplo: se função receber a palavra python, pode retornar npthyo, ophtyn ou qualquer outra combinação possível, de forma aleatória. Padronize em sua função que todos os caracteres serão devolvidos em caixa alta ou caixa baixa, independentemente de como foram digitados."
   ]
  },
  {
   "cell_type": "code",
   "execution_count": 67,
   "metadata": {
    "id": "X_R2eFoRSyvi"
   },
   "outputs": [],
   "source": [
    "def scrambleWord(palavra: str, \n",
    "                 modo: str = 'lower') -> str:\n",
    "    if (modo == 'upper'): \n",
    "        palavra = palavra.upper()\n",
    "    else: \n",
    "        palavra = palavra.lower()\n",
    "    lista = list(palavra)\n",
    "    shuffle(lista)\n",
    "    return ''.join(lista)\n"
   ]
  },
  {
   "cell_type": "code",
   "execution_count": 68,
   "metadata": {},
   "outputs": [
    {
     "name": "stdout",
     "output_type": "stream",
     "text": [
      "onyhpt\n",
      "pnthyo\n",
      "ophynt\n",
      "pthnyo\n",
      "yotnph\n"
     ]
    }
   ],
   "source": [
    "for _ in iter(range(5)):\n",
    "    print(scrambleWord('PyThoN'))"
   ]
  },
  {
   "cell_type": "markdown",
   "metadata": {
    "id": "bHAHBgE2SzIC"
   },
   "source": [
    "**Desenha moldura.** Construa uma função que desenhe um retângulo usando os caracteres ‘+’ , ‘−’ e ‘| ‘. Esta função deve receber dois parâmetros, linhas e colunas, sendo que o valor por omissão é o valor mínimo igual a 1 e o valor máximo é 20. Se valores fora da faixa forem informados, eles devem ser modificados para valores dentro da faixa de forma elegante."
   ]
  },
  {
   "cell_type": "code",
   "execution_count": 69,
   "metadata": {
    "id": "jejrLAAOS2S2"
   },
   "outputs": [],
   "source": [
    "def desenhaRetangulo(linhas :int = 1,colunas: int = 1) -> None:\n",
    "    topOrBottom='-'*colunas\n",
    "    middle='|'+'+' * (colunas-2)+'|'\n",
    "    print(topOrBottom)\n",
    "    for _ in iter(range(linhas-2)):\n",
    "        print(middle)\n",
    "    print(topOrBottom)\n"
   ]
  },
  {
   "cell_type": "code",
   "execution_count": 70,
   "metadata": {},
   "outputs": [
    {
     "name": "stdout",
     "output_type": "stream",
     "text": [
      "--------------------\n",
      "|++++++++++++++++++|\n",
      "|++++++++++++++++++|\n",
      "|++++++++++++++++++|\n",
      "|++++++++++++++++++|\n",
      "|++++++++++++++++++|\n",
      "|++++++++++++++++++|\n",
      "|++++++++++++++++++|\n",
      "|++++++++++++++++++|\n",
      "--------------------\n"
     ]
    }
   ],
   "source": [
    "desenhaRetangulo(10,20)"
   ]
  },
  {
   "cell_type": "markdown",
   "metadata": {
    "id": "NrEvpsgvS2tY"
   },
   "source": [
    "**Quadrado mágico.** Um quadrado mágico é aquele dividido em linhas e colunas, com um número em cada posição e no qual a soma das linhas, colunas e diagonais é a mesma. Por exemplo, veja um quadrado mágico de lado 3, com números de 1 a 9:\n",
    "\n",
    "```\n",
    "8  3  4 \n",
    "1  5  9\n",
    "6  7  2\n",
    "```\n",
    "\n",
    "Elabore uma função que identifica e mostra na tela todos os quadrados mágicos com as características acima. Dica: produza todas as combinações possíveis e verifique a soma quando completar cada quadrado. Usar um vetor de 1 a 9 parece ser mais simples que usar uma matriz 3x3.\n",
    "\n"
   ]
  },
  {
   "cell_type": "code",
   "execution_count": 71,
   "metadata": {
    "id": "tgg7vm8FTBu2"
   },
   "outputs": [],
   "source": [
    "def somaLinhas(quadrado: List[int]) -> Set[int]:\n",
    "    N = 3 #medida do lado do quadrado\n",
    "    return {sum(quadrado[0+N*i:N+N*i]) \n",
    "            for i in range(0,N,1)}\n",
    "        \n",
    "def somaColunas(quadrado: List[int]) -> Set[int]:\n",
    "    N = 3 #medida do lado do quadrado\n",
    "    return {sum([quadrado[i+j] \n",
    "                 for j in range(0,N**2-N+1,N)]) \n",
    "            for i in range(N)}\n",
    "\n",
    "def somaDiagonais(quadrado: List[int]) -> Set[int]:\n",
    "    N = 3 #medida do lado do quadrado\n",
    "    return {sum([quadrado[j] \n",
    "                 for j in range(0,N**2,N+1)]),\n",
    "            sum([quadrado[j] \n",
    "                 for j in range(N-1,N**2-N+1,N-1)])}\n",
    "\n",
    "def isMagic(quadrado: List[int]) -> bool:\n",
    "    conjunto = somaLinhas(quadrado) \\\n",
    "    | somaColunas(quadrado) \\\n",
    "    | somaDiagonais(quadrado)\n",
    "    if (len(conjunto) == 1): \n",
    "        return True\n",
    "\n",
    "def imprimeQuadrados(quadrado: List[int]) -> None:\n",
    "    N=3 #medida do lado do quadrado\n",
    "    for i,j in enumerate(quadrado):\n",
    "        print(f'{j}', end='')\n",
    "        if (i%N == 2): \n",
    "            print('\\n')\n",
    "        else:\n",
    "            print(' ', end='') \n"
   ]
  },
  {
   "cell_type": "code",
   "execution_count": 72,
   "metadata": {},
   "outputs": [
    {
     "name": "stdout",
     "output_type": "stream",
     "text": [
      "8 1 6\n",
      "\n",
      "3 5 7\n",
      "\n",
      "4 9 2\n",
      "\n",
      "----------\n",
      "6 7 2\n",
      "\n",
      "1 5 9\n",
      "\n",
      "8 3 4\n",
      "\n",
      "----------\n",
      "2 7 6\n",
      "\n",
      "9 5 1\n",
      "\n",
      "4 3 8\n",
      "\n",
      "----------\n",
      "6 1 8\n",
      "\n",
      "7 5 3\n",
      "\n",
      "2 9 4\n",
      "\n",
      "----------\n",
      "8 3 4\n",
      "\n",
      "1 5 9\n",
      "\n",
      "6 7 2\n",
      "\n",
      "----------\n",
      "4 3 8\n",
      "\n",
      "9 5 1\n",
      "\n",
      "2 7 6\n",
      "\n",
      "----------\n",
      "4 9 2\n",
      "\n",
      "3 5 7\n",
      "\n",
      "8 1 6\n",
      "\n",
      "----------\n",
      "2 9 4\n",
      "\n",
      "7 5 3\n",
      "\n",
      "6 1 8\n",
      "\n",
      "----------\n"
     ]
    }
   ],
   "source": [
    "N_inicial = 1 #onde começa o array de números\n",
    "N_final = 9 #onde terminar o array de 1 a 9\n",
    "\n",
    "numeros = [num for num in range(N_inicial,N_final+1)]\n",
    "quadrados = permutations(numeros)\n",
    "\n",
    "magicos = {quadrado for quadrado in quadrados \n",
    "           if isMagic(quadrado)}\n",
    "\n",
    "for quadrado in magicos: \n",
    "    imprimeQuadrados(quadrado)\n",
    "    print('-'*10)\n"
   ]
  },
  {
   "cell_type": "code",
   "execution_count": null,
   "metadata": {},
   "outputs": [],
   "source": []
  }
 ],
 "metadata": {
  "colab": {
   "name": "ExerciciosFuncoes.ipynb",
   "provenance": []
  },
  "interpreter": {
   "hash": "bbf7b13569e536aa5d7efa15e778e3407a163d0d7061aa8c5b82c99fb4d3a200"
  },
  "kernelspec": {
   "display_name": "Python 3.8.6 64-bit",
   "name": "python3"
  },
  "language_info": {
   "codemirror_mode": {
    "name": "ipython",
    "version": 3
   },
   "file_extension": ".py",
   "mimetype": "text/x-python",
   "name": "python",
   "nbconvert_exporter": "python",
   "pygments_lexer": "ipython3",
   "version": "3.8.6"
  }
 },
 "nbformat": 4,
 "nbformat_minor": 2
}
