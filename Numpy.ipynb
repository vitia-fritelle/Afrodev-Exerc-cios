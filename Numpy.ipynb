{
 "cells": [
  {
   "cell_type": "code",
   "execution_count": 1,
   "metadata": {},
   "outputs": [],
   "source": [
    "import numpy as np\n",
    "from colorama import init, Fore, Back, Style\n",
    "import seaborn as sns"
   ]
  },
  {
   "cell_type": "code",
   "execution_count": 2,
   "metadata": {},
   "outputs": [],
   "source": [
    "init()"
   ]
  },
  {
   "cell_type": "markdown",
   "metadata": {},
   "source": [
    "# Importando Dados"
   ]
  },
  {
   "cell_type": "code",
   "execution_count": 3,
   "metadata": {},
   "outputs": [
    {
     "data": {
      "text/plain": [
       "{0: 'User_id',\n",
       " 1: 'Carimbo de data/hora',\n",
       " 2: 'GÃªnero ',\n",
       " 3: 'Idade',\n",
       " 4: 'CEP',\n",
       " 5: 'GÃ\\xadria da sua cidade',\n",
       " 6: 'Estilo de mÃºsica favorita',\n",
       " 7: 'Cor favorita ',\n",
       " 8: 'NÃºmero de irmÃ£os ',\n",
       " 9: 'Qual seu salÃ¡rio dos sonhos ? ',\n",
       " 10: 'Gosta de programaÃ§Ã£o',\n",
       " 11: 'Gosta de matemÃ¡tica',\n",
       " 12: 'Qual sua sÃ©rie favorita?',\n",
       " 13: 'VocÃª gosta do seu nome?',\n",
       " 14: 'VocÃª acredita em ET?',\n",
       " 15: 'Uma data importante',\n",
       " 16: 'Qual joia do infinito dos vingadores vocÃªs gostaria de possuir ?',\n",
       " 17: 'O quÃ£o atraente vocÃª se considera de 0 atÃ© 10',\n",
       " 18: 'O quanto vocÃª gosta de cafÃ©?',\n",
       " 19: 'VocÃª prefere gato ou cachorro?'}"
      ]
     },
     "execution_count": 3,
     "metadata": {},
     "output_type": "execute_result"
    }
   ],
   "source": [
    "import csv\n",
    "\n",
    "afrodev = open('./assets/contents/formulario_fofoqueiro.csv')\n",
    "\n",
    "csvreader = csv.reader(afrodev, delimiter=';')\n",
    "header=[]\n",
    "header=next(csvreader)\n",
    "{i: val for i,val in enumerate(header)}"
   ]
  },
  {
   "cell_type": "code",
   "execution_count": 4,
   "metadata": {},
   "outputs": [],
   "source": [
    "rows = [row for row in csvreader]\n",
    "alunos_afrodev = np.array(rows)\n",
    "afrodev.close()"
   ]
  },
  {
   "cell_type": "markdown",
   "metadata": {},
   "source": [
    "# Perguntas iniciais"
   ]
  },
  {
   "cell_type": "code",
   "execution_count": 5,
   "metadata": {},
   "outputs": [
    {
     "data": {
      "text/plain": [
       "(32, 20)"
      ]
     },
     "execution_count": 5,
     "metadata": {},
     "output_type": "execute_result"
    }
   ],
   "source": [
    "alunos_afrodev.shape"
   ]
  },
  {
   "cell_type": "code",
   "execution_count": 6,
   "metadata": {},
   "outputs": [
    {
     "data": {
      "text/plain": [
       "2"
      ]
     },
     "execution_count": 6,
     "metadata": {},
     "output_type": "execute_result"
    }
   ],
   "source": [
    "alunos_afrodev.ndim"
   ]
  },
  {
   "cell_type": "markdown",
   "metadata": {},
   "source": [
    "# Como fazer um head()"
   ]
  },
  {
   "cell_type": "code",
   "execution_count": 7,
   "metadata": {},
   "outputs": [
    {
     "data": {
      "text/plain": [
       "array([['1', '04/10/2021 20:05:11'],\n",
       "       ['2', '04/10/2021 20:05:15'],\n",
       "       ['3', '04/10/2021 20:05:25'],\n",
       "       ['4', '04/10/2021 20:05:32'],\n",
       "       ['5', '04/10/2021 20:05:34']], dtype='<U26')"
      ]
     },
     "execution_count": 7,
     "metadata": {},
     "output_type": "execute_result"
    }
   ],
   "source": [
    "alunos_afrodev[:,0:2][:5]"
   ]
  },
  {
   "cell_type": "markdown",
   "metadata": {},
   "source": [
    "# Refazer com regex"
   ]
  },
  {
   "cell_type": "code",
   "execution_count": 8,
   "metadata": {},
   "outputs": [],
   "source": [
    "idades = np.array([int(s.split(' ')[0]) for s in alunos_afrodev[:,3]])"
   ]
  },
  {
   "cell_type": "code",
   "execution_count": 9,
   "metadata": {},
   "outputs": [
    {
     "data": {
      "image/png": "[encoded data removed]",
      "text/plain": [
       "<Figure size 432x288 with 1 Axes>"
      ]
     },
     "metadata": {
      "needs_background": "light"
     },
     "output_type": "display_data"
    }
   ],
   "source": [
    "sns.histplot(idades, discrete=True);"
   ]
  },
  {
   "cell_type": "code",
   "execution_count": 10,
   "metadata": {},
   "outputs": [
    {
     "data": {
      "text/plain": [
       "29.46875"
      ]
     },
     "execution_count": 10,
     "metadata": {},
     "output_type": "execute_result"
    }
   ],
   "source": [
    "idades.mean()"
   ]
  },
  {
   "cell_type": "markdown",
   "metadata": {},
   "source": [
    "# Salário dos sonhos"
   ]
  },
  {
   "cell_type": "code",
   "execution_count": 11,
   "metadata": {},
   "outputs": [],
   "source": [
    "salario = alunos_afrodev[:,9]"
   ]
  },
  {
   "cell_type": "code",
   "execution_count": 28,
   "metadata": {},
   "outputs": [],
   "source": [
    "def tratamento_dados(elemento: str) -> float:\n",
    "    resultado = elemento.replace('k+','000')\\\n",
    "                        .replace('mil','000')\\\n",
    "                        .replace(' ','')\\\n",
    "                        .replace('.','')\\\n",
    "                        .replace('k','000')\\\n",
    "                        .replace('mensais','')\\\n",
    "                        .replace('reais','')\\\n",
    "                        .replace('R$Â','')\\\n",
    "                        .replace(u'\\xa0','')\\\n",
    "                        .replace(',','.')\n",
    "    return float(resultado)"
   ]
  },
  {
   "cell_type": "code",
   "execution_count": 34,
   "metadata": {},
   "outputs": [],
   "source": [
    "salarios = [tratamento_dados(i) for i in salario]"
   ]
  },
  {
   "cell_type": "code",
   "execution_count": 14,
   "metadata": {},
   "outputs": [
    {
     "name": "stdout",
     "output_type": "stream",
     "text": [
      "120000.0\n"
     ]
    }
   ],
   "source": [
    "print(Fore.RED + str(np.max(salarios)))"
   ]
  },
  {
   "cell_type": "code",
   "execution_count": 30,
   "metadata": {},
   "outputs": [
    {
     "data": {
      "text/plain": [
       "3000.0"
      ]
     },
     "execution_count": 30,
     "metadata": {},
     "output_type": "execute_result"
    }
   ],
   "source": [
    "np.min(salarios)"
   ]
  },
  {
   "cell_type": "code",
   "execution_count": 31,
   "metadata": {},
   "outputs": [
    {
     "data": {
      "text/plain": [
       "25750.0"
      ]
     },
     "execution_count": 31,
     "metadata": {},
     "output_type": "execute_result"
    }
   ],
   "source": [
    "np.mean(salarios)"
   ]
  },
  {
   "cell_type": "markdown",
   "metadata": {},
   "source": [
    "# Somatório do salário dos sonhos"
   ]
  },
  {
   "cell_type": "code",
   "execution_count": 32,
   "metadata": {},
   "outputs": [
    {
     "data": {
      "text/plain": [
       "824000.0"
      ]
     },
     "execution_count": 32,
     "metadata": {},
     "output_type": "execute_result"
    }
   ],
   "source": [
    "np.sum(salarios)"
   ]
  },
  {
   "cell_type": "code",
   "execution_count": 18,
   "metadata": {},
   "outputs": [
    {
     "data": {
      "image/png": "[encoded data removed]",
      "text/plain": [
       "<Figure size 432x288 with 1 Axes>"
      ]
     },
     "metadata": {
      "needs_background": "light"
     },
     "output_type": "display_data"
    }
   ],
   "source": [
    "sns.histplot(salarios);"
   ]
  },
  {
   "cell_type": "markdown",
   "metadata": {},
   "source": [
    "# O quanto você gosta de café?"
   ]
  },
  {
   "cell_type": "code",
   "execution_count": 19,
   "metadata": {},
   "outputs": [],
   "source": [
    "cafe = [int(i) for i in alunos_afrodev[:,18]]"
   ]
  },
  {
   "cell_type": "markdown",
   "metadata": {},
   "source": [
    "# Média do café"
   ]
  },
  {
   "cell_type": "code",
   "execution_count": 20,
   "metadata": {},
   "outputs": [
    {
     "data": {
      "text/plain": [
       "6.75"
      ]
     },
     "execution_count": 20,
     "metadata": {},
     "output_type": "execute_result"
    }
   ],
   "source": [
    "np.mean(cafe)"
   ]
  },
  {
   "cell_type": "code",
   "execution_count": 21,
   "metadata": {},
   "outputs": [
    {
     "data": {
      "image/png": "[encoded data removed]",
      "text/plain": [
       "<Figure size 432x288 with 1 Axes>"
      ]
     },
     "metadata": {
      "needs_background": "light"
     },
     "output_type": "display_data"
    }
   ],
   "source": [
    "sns.histplot(cafe, discrete=True);"
   ]
  },
  {
   "cell_type": "markdown",
   "metadata": {},
   "source": [
    "# Sabendo que o salário mínimo é de R$ 1.192,40, e o crescimento anual é de 5%, quantos anos cada pessoa levaria para chegar no salário dos sonhos, levando em consideração a coluna Qual seu salário dos sonhos ?"
   ]
  },
  {
   "cell_type": "code",
   "execution_count": 22,
   "metadata": {},
   "outputs": [],
   "source": [
    "\n",
    "def encontra_sonho(salarios):\n",
    "\n",
    "    salario_minimo = (np.ones_like(salarios)) * 1192.4\n",
    "    resultado = np.array([np.ones_like(salarios)])\n",
    "    while np.any(salarios > salario_minimo):\n",
    "        salario_minimo *= (1+.05)\n",
    "        resultado = np.append(resultado,\n",
    "                              [salarios > salario_minimo], \n",
    "                              axis=0)\n",
    "    return resultado\n"
   ]
  },
  {
   "cell_type": "code",
   "execution_count": 23,
   "metadata": {},
   "outputs": [
    {
     "data": {
      "text/plain": [
       "array([30., 48., 44., 44., 44., 58., 44., 44., 52., 67., 77., 65., 52.,\n",
       "       52., 37., 95., 37., 52., 63., 44., 73., 58., 52., 30., 58., 58.,\n",
       "       37., 91., 77., 58., 19., 91.])"
      ]
     },
     "execution_count": 23,
     "metadata": {},
     "output_type": "execute_result"
    }
   ],
   "source": [
    "np.sum(encontra_sonho(salarios), axis=0)"
   ]
  },
  {
   "cell_type": "code",
   "execution_count": null,
   "metadata": {},
   "outputs": [],
   "source": []
  }
 ],
 "metadata": {
  "interpreter": {
   "hash": "bbf7b13569e536aa5d7efa15e778e3407a163d0d7061aa8c5b82c99fb4d3a200"
  },
  "kernelspec": {
   "display_name": "Python 3.8.6 64-bit",
   "name": "python3"
  },
  "language_info": {
   "codemirror_mode": {
    "name": "ipython",
    "version": 3
   },
   "file_extension": ".py",
   "mimetype": "text/x-python",
   "name": "python",
   "nbconvert_exporter": "python",
   "pygments_lexer": "ipython3",
   "version": "3.8.6"
  },
  "orig_nbformat": 4
 },
 "nbformat": 4,
 "nbformat_minor": 2
}
