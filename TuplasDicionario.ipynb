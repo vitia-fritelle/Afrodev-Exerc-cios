{
 "cells": [
  {
   "cell_type": "code",
   "execution_count": 1,
   "metadata": {},
   "outputs": [],
   "source": [
    "from typing import Union, Any, Dict, List, Set"
   ]
  },
  {
   "cell_type": "code",
   "execution_count": 2,
   "metadata": {},
   "outputs": [],
   "source": [
    "Hashable = Union[int,bool,str,tuple,frozenset]\n",
    "Num = Union[int,float]\n",
    "Iterable = Union[list,tuple,set,frozenset]"
   ]
  },
  {
   "cell_type": "code",
   "execution_count": 3,
   "metadata": {},
   "outputs": [],
   "source": [
    "def media(vetor: Iterable) -> Num:\n",
    "    return sum(vetor)/len(vetor)"
   ]
  },
  {
   "cell_type": "markdown",
   "metadata": {
    "id": "mzx8KinyiMZx"
   },
   "source": [
    "# Tuplas e Dicionários "
   ]
  },
  {
   "cell_type": "markdown",
   "metadata": {
    "id": "A0pPomWZiSwB"
   },
   "source": [
    "**Escreva uma função “inva” em Python que recebe um dicionário d e retorna um dicionário “inverso” do dicionário dado, onde, a cada valor v de d está associada a lista das chaves de d que levam a v. Exemplos:**\n",
    "\n",
    "![dict1.jpeg](data:image/jpeg;base64,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)\n",
    "\n"
   ]
  },
  {
   "cell_type": "code",
   "execution_count": 4,
   "metadata": {
    "id": "29Ex0-DNiDif"
   },
   "outputs": [],
   "source": [
    "def inva(di: Dict[Hashable,list]) -> Dict[Hashable,list]:\n",
    "    dic = {}\n",
    "    for key,value in di.items():\n",
    "        dic.setdefault(value,[]).append(key)\n",
    "    return dic\n",
    "    "
   ]
  },
  {
   "cell_type": "code",
   "execution_count": 5,
   "metadata": {},
   "outputs": [
    {
     "name": "stdout",
     "output_type": "stream",
     "text": [
      "{2: [1, 4], 1: [3]}\n",
      "{1: [2], 2: [1]}\n",
      "{}\n"
     ]
    }
   ],
   "source": [
    "print(inva({1 : 2,3 : 1,4 : 2}))\n",
    "print(inva({2 : 1,1 : 2}))\n",
    "print(inva({}))"
   ]
  },
  {
   "cell_type": "markdown",
   "metadata": {
    "id": "DSFQyv00i3pD"
   },
   "source": [
    "**Faça uma função que encontre todas as chaves que estão associadas a um determinado valor em um dicionário. A função receberá no primeiro parâmetro o dicionário a ser analisado, e como segundo parâmetro o valor da chave a ser buscada. A função retornará uma lista com as chaves encontradas, essa lista pode ter diversos valores, apenas um ou nenhum. Nos exemplos, a função foi chamada de .**\n",
    "\n",
    "![dict2.jpeg](data:image/jpeg;base64,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)"
   ]
  },
  {
   "cell_type": "code",
   "execution_count": 6,
   "metadata": {
    "id": "idBPrlCEi5Eo"
   },
   "outputs": [],
   "source": [
    "def procuraReversa(dicionario: Dict[Hashable,Any], \n",
    "                   valor: Any) -> List[Hashable]:\n",
    "    lista_retorno=[key for key,value in dicionario.items() \n",
    "                   if (value == valor)]\n",
    "    return lista_retorno"
   ]
  },
  {
   "cell_type": "code",
   "execution_count": 7,
   "metadata": {},
   "outputs": [
    {
     "data": {
      "text/plain": [
       "['first']"
      ]
     },
     "execution_count": 7,
     "metadata": {},
     "output_type": "execute_result"
    }
   ],
   "source": [
    "procuraReversa({'first' : 22,'second' : 33,'third' : 44},22)"
   ]
  },
  {
   "cell_type": "markdown",
   "metadata": {
    "id": "BkQw-wfHi_tL"
   },
   "source": [
    "**A conta do cartão de crédito de uma pessoa pode ser modelada por um dicionário com os campos saldo, com o saldo devedor da conta, transações, com o número de transações que gerou esse saldo, e média, com a média de gastos por transação. Escreva uma função compra, que recebe como parâmetros o dicionário com a conta e o valor da compra e retorna um novo dicionário para aquela conta, com o saldo devedor, número de transações e média de gastos atualizados.**"
   ]
  },
  {
   "cell_type": "code",
   "execution_count": 8,
   "metadata": {
    "id": "fjW0zVa3jFRr"
   },
   "outputs": [],
   "source": [
    "def compra(conta: Dict[str,Num],valor: Num) -> dict:\n",
    "    conta['saldo_devedor'] += valor\n",
    "    conta['media'] = (conta['media'] * conta['transacoes']+valor) / (conta['transacoes']+1)\n",
    "    conta['transacoes'] += 1\n",
    "    return(conta)"
   ]
  },
  {
   "cell_type": "code",
   "execution_count": 9,
   "metadata": {},
   "outputs": [
    {
     "data": {
      "text/plain": [
       "{'saldo': 1000,\n",
       " 'saldo_devedor': 600,\n",
       " 'transacoes': 6,\n",
       " 'media': 516.6666666666666}"
      ]
     },
     "execution_count": 9,
     "metadata": {},
     "output_type": "execute_result"
    }
   ],
   "source": [
    "conta = {\n",
    "    'saldo':1000,\n",
    "    'saldo_devedor':500,\n",
    "    'transacoes':5,\n",
    "    'media':600\n",
    "}\n",
    "\n",
    "compra(conta,100)"
   ]
  },
  {
   "cell_type": "markdown",
   "metadata": {
    "id": "QrpI8PpQjGOv"
   },
   "source": [
    "**Faça um programa que leia nomes de alunos e suas respectivas notas até que o nome ’oooo’ seja informado, após o fim da leitura, imprima o nome do aluno que possui a maior nota. Obs.: Use dicionário para resolver essa questão.**"
   ]
  },
  {
   "cell_type": "code",
   "execution_count": 10,
   "metadata": {
    "id": "0iwWG5hgjJAJ"
   },
   "outputs": [],
   "source": [
    "#Não usei a retornaNomes\n",
    "def retornaNomes(turma: Dict[str,Num]) -> None:\n",
    "    maior_nota = max(set(turma.values()))\n",
    "    alunos = {aluno for aluno,nota in turma.items() \n",
    "              if (nota == maior_nota)}\n",
    "    for aluno in alunos: print(aluno)\n",
    "\n",
    "def maximoTurma(turma: Dict[str, Num],chave: str = 'oooo') -> Num:\n",
    "    copia = turma.copy()\n",
    "    del copia[chave]\n",
    "    return(max(set(copia.values())))\n",
    "\n",
    "def imprimeLista(lista: list) -> None:\n",
    "    for pessoa in lista: \n",
    "        print(pessoa) \n",
    "\n",
    "def lerTurma(turma: Dict[str, Num],chave: str = 'oooo') -> None:\n",
    "    maior_nota = maximoTurma(turma)\n",
    "    lista = []\n",
    "    for aluno,nota in turma.items():\n",
    "        if (aluno == chave): \n",
    "            imprimeLista(lista)\n",
    "            break\n",
    "        if (nota == maior_nota): \n",
    "            lista.append(aluno)"
   ]
  },
  {
   "cell_type": "code",
   "execution_count": 11,
   "metadata": {},
   "outputs": [
    {
     "name": "stdout",
     "output_type": "stream",
     "text": [
      "João\n",
      "Euler\n"
     ]
    }
   ],
   "source": [
    "turma = {'João':10,'Pedro':5,'Euler':10,'Israel':7,'Nadja':8,'oooo':11}\n",
    "lerTurma(turma)"
   ]
  },
  {
   "cell_type": "markdown",
   "metadata": {
    "id": "sP0EdaiqjJgl"
   },
   "source": [
    "**Escreva uma função, chamada contaVoigais, que conta todas as vogais presentes no texto recebido como parâmetro e retorna um dicionário contendo a quantidade de cada vogal. Escreva um programa a fim de testar sua função, e exiba, no fim, os dados do dicionário retornado.**"
   ]
  },
  {
   "cell_type": "code",
   "execution_count": 12,
   "metadata": {
    "id": "qgbIvk9XjLu_"
   },
   "outputs": [],
   "source": [
    "def contaVogais(texto: str, \n",
    "                vogais: Set[str] = {'a','e','i','o','u'}) -> Dict[str,int]:\n",
    "    contagem = {vogal:texto.lower().count(vogal) \n",
    "                for vogal in vogais}\n",
    "    return contagem"
   ]
  },
  {
   "cell_type": "code",
   "execution_count": 13,
   "metadata": {},
   "outputs": [
    {
     "data": {
      "text/plain": [
       "{'o': 6, 'a': 8, 'i': 1, 'e': 2, 'u': 2}"
      ]
     },
     "execution_count": 13,
     "metadata": {},
     "output_type": "execute_result"
    }
   ],
   "source": [
    "contaVogais('Eu amo Coca-Cola, bebo todo dia uma garrafa.')"
   ]
  },
  {
   "cell_type": "markdown",
   "metadata": {
    "id": "attUIqNljMey"
   },
   "source": [
    "**Escreva um programa para armazenar uma agenda de telefones em um dicionário. Cada pessoa pode ter um ou mais telefones e a chave do dicionário é o nome da pessoa. Seu programa deve ter as seguintes funções: ­**\n",
    "\n",
    "1. incluirNovoNome – essa função acrescenta um novo nome na agenda, com um ou mais telefones. Ela deve receber como argumentos o nome e os telefones. ­\n",
    "2. incluirTelefone – essa função acrescenta um telefone em um nome existente na agenda. Caso o nome não exista na agenda, você deve perguntar se a pessoa deseja incluí-­lo. Caso a resposta seja afirmativa, use a função anterior para incluir o novo nome. ­\n",
    "3. excluirTelefone – essa função exclui um telefone de uma pessoa que já está na agenda. Se a pessoa tiver apenas um telefone, ela deve ser excluída da agenda. ­\n",
    "4. excluirNome – essa função exclui uma pessoa da agenda. ­\n",
    "5. consultarTelefone – essa função retorna os telefones de uma pessoa na agenda."
   ]
  },
  {
   "cell_type": "code",
   "execution_count": 14,
   "metadata": {
    "id": "GL5CwsbNjWkd"
   },
   "outputs": [],
   "source": [
    "global agenda \n",
    "agenda = {}\n",
    "\n",
    "def incluirNovoNome(nome: str,\n",
    "                    *args: int) -> None:\n",
    "    agenda[nome] = {telefone for telefone in args}\n",
    "\n",
    "def incluirTelefone(nome: str,\n",
    "                    telefone: int) -> None:\n",
    "    for pessoa in agenda.keys():\n",
    "        if (nome == pessoa): \n",
    "            agenda[nome].add(telefone) \n",
    "            return None\n",
    "    inclusao = input('Deseja incluir o nome na agenda?(S/N) ')\n",
    "    if (inclusao == 'S'): \n",
    "        incluirNovoNome(nome,telefone)\n",
    "\n",
    "def excluirTelefone(telefone: int) -> None:\n",
    "    flag = 0\n",
    "    for key,valores in agenda.copy().items():\n",
    "        if(telefone in valores): \n",
    "            agenda[key].discard(telefone)\n",
    "            flag = 1\n",
    "        if(len(agenda[key]) == 0): \n",
    "            del agenda[key] \n",
    "            return None\n",
    "    if(flag == 1): \n",
    "        return None  \n",
    "    print('Esse telefone não se encontra na agenda.')\n",
    "            \n",
    "def excluirNome(nome: str) -> None:\n",
    "    if(agenda.get(nome,False)): \n",
    "        del agenda[nome] \n",
    "        return None\n",
    "    print('Esse nome não se encontra na agenda.')\n",
    "    \n",
    "def consultarTelefone(nome: str) -> Union[set,None]:\n",
    "    if(agenda.get(nome,False)): \n",
    "        return agenda[nome]\n",
    "    print('Esse nome não se encontra na agenda.')"
   ]
  },
  {
   "cell_type": "code",
   "execution_count": 15,
   "metadata": {},
   "outputs": [
    {
     "name": "stdout",
     "output_type": "stream",
     "text": [
      "{'André Marques': {95145632, 11447523}}\n",
      "{'André Marques': {95145632, 11447523}}\n",
      "Esse telefone não se encontra na agenda.\n",
      "{'André Marques': {95145632, 11447523}}\n",
      "{}\n",
      "Esse nome não se encontra na agenda.\n",
      "{456123789}\n",
      "Esse nome não se encontra na agenda.\n"
     ]
    }
   ],
   "source": [
    "agenda = {}\n",
    "incluirNovoNome('André Marques',95145632,11447523)\n",
    "print(agenda)\n",
    "incluirTelefone('Sônia Abrão',123456789)\n",
    "print(agenda)\n",
    "excluirTelefone(123456789)\n",
    "print(agenda)\n",
    "excluirNome('André Marques')\n",
    "print(agenda)\n",
    "excluirNome('Sônia Abrão')\n",
    "incluirNovoNome('Rafael de Alencar',456123789)\n",
    "print(consultarTelefone('Rafael de Alencar'))\n",
    "consultarTelefone('Raul Gil')"
   ]
  },
  {
   "cell_type": "markdown",
   "metadata": {
    "id": "LfJw6tNVjXL4"
   },
   "source": [
    "**Escreva um programa que:**\n",
    "\n",
    "1. lê duas notas de vários alunos e armazena tais notas em um dicionário, onde a chave é o nome do aluno. A entrada de dados deve terminar quando for lida uma string vazia como nome.\n",
    "2. Escreva uma função que retorna a média do aluno, dado seu nome.\n",
    "3. Escreva um programa que exiba o nome é a média do aluno de maior média."
   ]
  },
  {
   "cell_type": "code",
   "execution_count": 16,
   "metadata": {
    "id": "WamAwY4WjfXm"
   },
   "outputs": [],
   "source": [
    "#Este exercício é meio estranho porque \n",
    "#ele já estaria lendo um dicionário >_>\n",
    "\n",
    "def leDicionario(dic: Dict[str,List[Num]]) -> Dict[str,List[Num]]:\n",
    "    retorno = {}\n",
    "    for key in dic.keys():\n",
    "        if (key == ''):\n",
    "            break\n",
    "        retorno[key] = dic[key]\n",
    "    return retorno\n",
    "\n",
    "def retornaMedia(turma: Dict[str,List[Num]],\n",
    "                 nome: str) -> Union[Num,None]:\n",
    "    if(turma.get(nome,False)):\n",
    "        return media(turma[nome])\n",
    "    else: \n",
    "        print('O aluno não se encontra na turma')\n",
    "\n",
    "def alunoMaiorMedia(turma: Dict[str,List[Num]]) -> Dict[str,Num]:\n",
    "    media_maxima= max({media(valores) for valores in turma.values()})\n",
    "    maiores_medias={aluno:media(turma[aluno]) \n",
    "                    for aluno,notas in turma.items() \n",
    "                    if (media(notas)==media_maxima)}\n",
    "    return maiores_medias"
   ]
  },
  {
   "cell_type": "code",
   "execution_count": 17,
   "metadata": {},
   "outputs": [
    {
     "name": "stdout",
     "output_type": "stream",
     "text": [
      "6.5\n",
      "O aluno não se encontra na turma\n",
      "{'Lauro': 7.5}\n"
     ]
    }
   ],
   "source": [
    "di = {'Lauro':[10,5],'Lorenzo':[7,6],'João':[3,7]}\n",
    "dicionario = leDicionario(di)\n",
    "print(retornaMedia(dicionario,'Lorenzo'))\n",
    "retornaMedia(dicionario,'Leandro')\n",
    "print(alunoMaiorMedia(dicionario))"
   ]
  },
  {
   "cell_type": "markdown",
   "metadata": {
    "id": "tKXVq2g8jf8M"
   },
   "source": [
    "**Três tipos de dados fundamentais em Python são as listas (“lists”), sequências ou ‘tuplas’ (“tuples”) e dicionários (“dictionaries”). A respeito dessas estruturas, é correto afirmar:**\n",
    "1. Listas não podem ser modificadas depois de criadas, ao passo que sequências e dicionários podem.\n",
    "2. Listas podem ser modificadas, mas seu tamanho não pode ser modificado após a criação, ao passo que sequências e dicionários não têm essa limitação.\n",
    "3. Dicionários não podem ser modificados depois de criados, ao passo que listas e sequências podem.\n",
    "4. Listas e sequências são indexadas por inteiros, ao passo que dicionários podem ser indexados por strings.\n",
    "5. Listas e dicionários são indexados por inteiros, ao passo que sequências podem ser indexadas por strings.\n"
   ]
  },
  {
   "cell_type": "markdown",
   "metadata": {
    "id": "etS0GJicjpAr"
   },
   "source": [
    "Somente a número 4 está correta."
   ]
  },
  {
   "cell_type": "code",
   "execution_count": null,
   "metadata": {},
   "outputs": [],
   "source": []
  }
 ],
 "metadata": {
  "colab": {
   "name": "TuplasDicionario.ipynb",
   "provenance": []
  },
  "interpreter": {
   "hash": "bbf7b13569e536aa5d7efa15e778e3407a163d0d7061aa8c5b82c99fb4d3a200"
  },
  "kernelspec": {
   "display_name": "Python 3 (ipykernel)",
   "language": "python",
   "name": "python3"
  },
  "language_info": {
   "codemirror_mode": {
    "name": "ipython",
    "version": 3
   },
   "file_extension": ".py",
   "mimetype": "text/x-python",
   "name": "python",
   "nbconvert_exporter": "python",
   "pygments_lexer": "ipython3",
   "version": "3.8.6"
  }
 },
 "nbformat": 4,
 "nbformat_minor": 1
}
